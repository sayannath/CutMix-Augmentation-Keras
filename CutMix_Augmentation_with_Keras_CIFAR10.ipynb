{
  "nbformat": 4,
  "nbformat_minor": 0,
  "metadata": {
    "colab": {
      "name": "CutMix Augmentation with Keras - CIFAR10.ipynb",
      "provenance": [],
      "collapsed_sections": []
    },
    "kernelspec": {
      "name": "python3",
      "display_name": "Python 3"
    },
    "language_info": {
      "name": "python"
    },
    "accelerator": "GPU"
  },
  "cells": [
    {
      "cell_type": "code",
      "metadata": {
        "colab": {
          "base_uri": "https://localhost:8080/"
        },
        "id": "UNX0owPWHQSi",
        "outputId": "16c02956-2109-49e8-8a48-b7b1da0c7ba0"
      },
      "source": [
        "!nvidia-smi"
      ],
      "execution_count": 1,
      "outputs": [
        {
          "output_type": "stream",
          "text": [
            "Mon Mar 22 20:06:16 2021       \n",
            "+-----------------------------------------------------------------------------+\n",
            "| NVIDIA-SMI 460.56       Driver Version: 460.32.03    CUDA Version: 11.2     |\n",
            "|-------------------------------+----------------------+----------------------+\n",
            "| GPU  Name        Persistence-M| Bus-Id        Disp.A | Volatile Uncorr. ECC |\n",
            "| Fan  Temp  Perf  Pwr:Usage/Cap|         Memory-Usage | GPU-Util  Compute M. |\n",
            "|                               |                      |               MIG M. |\n",
            "|===============================+======================+======================|\n",
            "|   0  Tesla T4            Off  | 00000000:00:04.0 Off |                    0 |\n",
            "| N/A   41C    P8     9W /  70W |      0MiB / 15109MiB |      0%      Default |\n",
            "|                               |                      |                  N/A |\n",
            "+-------------------------------+----------------------+----------------------+\n",
            "                                                                               \n",
            "+-----------------------------------------------------------------------------+\n",
            "| Processes:                                                                  |\n",
            "|  GPU   GI   CI        PID   Type   Process name                  GPU Memory |\n",
            "|        ID   ID                                                   Usage      |\n",
            "|=============================================================================|\n",
            "|  No running processes found                                                 |\n",
            "+-----------------------------------------------------------------------------+\n"
          ],
          "name": "stdout"
        }
      ]
    },
    {
      "cell_type": "code",
      "metadata": {
        "id": "ec4Vwg7oHYho"
      },
      "source": [
        "import numpy as np\n",
        "import pandas as pd\n",
        "import tensorflow as tf\n",
        "import matplotlib.pyplot as plt\n",
        "from tensorflow.keras import layers\n",
        "\n",
        "import tensorflow_probability as tfp\n",
        "tfd = tfp.distributions"
      ],
      "execution_count": 2,
      "outputs": []
    },
    {
      "cell_type": "code",
      "metadata": {
        "id": "sPczb7Tn50IN"
      },
      "source": [
        "class_names = ['Airplane', 'Automobile', 'Bird', 'Cat', 'Deer', 'Dog', 'Frog', 'Horse', 'Ship', 'Truck']"
      ],
      "execution_count": 3,
      "outputs": []
    },
    {
      "cell_type": "code",
      "metadata": {
        "id": "6rIGKat2Hg6y",
        "colab": {
          "base_uri": "https://localhost:8080/"
        },
        "outputId": "adfe787c-438e-430a-a54e-7b2c2a072ee5"
      },
      "source": [
        "cifar10 = tf.keras.datasets.cifar10\n",
        "(x_train, y_train), (x_test, y_test) = cifar10.load_data()\n",
        "\n",
        "x_train = x_train.astype(\"float32\") / 255.0\n",
        "y_train = pd.get_dummies(y_train.flatten()).values.astype(np.float32)\n",
        "\n",
        "x_test = x_test.astype(\"float32\") / 255.0\n",
        "y_test = pd.get_dummies(y_test.flatten()).values.astype(np.float32)"
      ],
      "execution_count": 4,
      "outputs": [
        {
          "output_type": "stream",
          "text": [
            "Downloading data from https://www.cs.toronto.edu/~kriz/cifar-10-python.tar.gz\n",
            "170500096/170498071 [==============================] - 2s 0us/step\n"
          ],
          "name": "stdout"
        }
      ]
    },
    {
      "cell_type": "code",
      "metadata": {
        "colab": {
          "base_uri": "https://localhost:8080/"
        },
        "id": "VCUKVdCLKIGH",
        "outputId": "1118acf8-f6a5-4e1c-f37e-9a2cce6dddfc"
      },
      "source": [
        "print(\"Shape of x_train: \",x_train.shape)\n",
        "print(\"Shape of y_train: \",y_train.shape)\n",
        "print(\"Shape of x_test: \",x_test.shape)\n",
        "print(\"Shape of y_test: \",y_test.shape)"
      ],
      "execution_count": 5,
      "outputs": [
        {
          "output_type": "stream",
          "text": [
            "Shape of x_train:  (50000, 32, 32, 3)\n",
            "Shape of y_train:  (50000, 10)\n",
            "Shape of x_test:  (10000, 32, 32, 3)\n",
            "Shape of y_test:  (10000, 10)\n"
          ],
          "name": "stdout"
        }
      ]
    },
    {
      "cell_type": "code",
      "metadata": {
        "id": "LsCbTs3DIBFD"
      },
      "source": [
        "AUTO = tf.data.AUTOTUNE\n",
        "BATCH_SIZE = 64\n",
        "EPOCHS = 5\n",
        "IMAGE_SIZE = 32"
      ],
      "execution_count": 6,
      "outputs": []
    },
    {
      "cell_type": "code",
      "metadata": {
        "id": "4HyzCN0PrdF9"
      },
      "source": [
        "# Put aside a few samples to create our validation set\n",
        "val_samples = 500\n",
        "x_val, y_val = x_train[:val_samples], y_train[:val_samples]\n",
        "new_x_train, new_y_train = x_train[val_samples:], y_train[val_samples:]\n",
        "\n",
        "train_ds_one = (\n",
        "    tf.data.Dataset.from_tensor_slices((new_x_train, new_y_train))\n",
        "    .shuffle(BATCH_SIZE * 100)\n",
        "    .batch(BATCH_SIZE)\n",
        ")\n",
        "train_ds_two = (\n",
        "    tf.data.Dataset.from_tensor_slices((new_x_train, new_y_train))\n",
        "    .shuffle(BATCH_SIZE * 100)\n",
        "    .batch(BATCH_SIZE)\n",
        ")\n",
        "# Because we will be mixing up the images and their corresponding labels, we will be\n",
        "# combining two shuffled datasets from the same training data.\n",
        "train_ds = tf.data.Dataset.zip((train_ds_one, train_ds_two))\n",
        "\n",
        "val_ds = tf.data.Dataset.from_tensor_slices((x_val, y_val)).batch(BATCH_SIZE)\n",
        "\n",
        "test_ds = tf.data.Dataset.from_tensor_slices((x_test, y_test)).batch(BATCH_SIZE)"
      ],
      "execution_count": 7,
      "outputs": []
    },
    {
      "cell_type": "code",
      "metadata": {
        "id": "OOtEas0nMze2"
      },
      "source": [
        "@tf.function\n",
        "def get_bbox(l):\n",
        "  cut_rat = tf.math.sqrt(1.-l)\n",
        "\n",
        "  cut_w = IMAGE_SIZE*cut_rat #rw\n",
        "  cut_w = tf.cast(cut_w, tf.int32)\n",
        "  \n",
        "  cut_h = IMAGE_SIZE*cut_rat #rh\n",
        "  cut_h = tf.cast(cut_h, tf.int32)\n",
        "  \n",
        "  cx = tf.random.uniform((1,), minval=0, maxval=IMAGE_SIZE, dtype=tf.int32) #rx\n",
        "  cy = tf.random.uniform((1,), minval=0, maxval=IMAGE_SIZE, dtype=tf.int32) #ry\n",
        "  \n",
        "  bbx1 = tf.clip_by_value(cx[0] - cut_w // 2, 0, IMAGE_SIZE)\n",
        "  bby1 = tf.clip_by_value(cy[0] - cut_h // 2, 0, IMAGE_SIZE)\n",
        "  bbx2 = tf.clip_by_value(cx[0] + cut_w // 2, 0, IMAGE_SIZE)\n",
        "  bby2 = tf.clip_by_value(cy[0] + cut_h // 2, 0, IMAGE_SIZE)\n",
        "  \n",
        "  target_h = bby2-bby1\n",
        "  if target_h ==0:\n",
        "    target_h+=1\n",
        "\n",
        "  target_w = bbx2-bbx1\n",
        "  if target_w ==0:\n",
        "    target_w+=1\n",
        "\n",
        "  return bbx1, bby1, target_h, target_w\n",
        "\n",
        "@tf.function\n",
        "def cutmix(a, b):\n",
        "  \n",
        "  (image1, label1), (image2, label2) = a, b\n",
        "\n",
        "  alpha = [1.]\n",
        "  beta = [1.]\n",
        "  \n",
        "  ## Get sample from beta distribution\n",
        "  dist = tfd.Beta(alpha, beta)\n",
        "  ## Lambda\n",
        "  l = dist.sample(1)[0][0]\n",
        "\n",
        "  ## Get bbox ofsets and heights anda widths\n",
        "  bbx1, bby1, target_h, target_w = get_bbox(l)\n",
        "\n",
        "  ## Get patch from image2\n",
        "  crop2 = tf.image.crop_to_bounding_box(image2, bby1, bbx1, target_h, target_w)\n",
        "  ## Pad the patch with same offset\n",
        "  image2 = tf.image.pad_to_bounding_box(crop2, bby1, bbx1, IMAGE_SIZE, IMAGE_SIZE)\n",
        "  ## Get patch from image1\n",
        "  crop1 = tf.image.crop_to_bounding_box(image1, bby1, bbx1, target_h, target_w)\n",
        "  ## Pad the patch with same offset\n",
        "  img1 = tf.image.pad_to_bounding_box(crop1, bby1, bbx1, IMAGE_SIZE, IMAGE_SIZE)\n",
        "\n",
        "  ## Subtract the patch from image1 so that patch from image2 can be put on instead\n",
        "  image1 = image1-img1\n",
        "  ## Add modified image1 and image2 to get cutmix image\n",
        "  image = image1+image2\n",
        "\n",
        "  ## Adjust lambda according to pixel ration\n",
        "  l = 1 - (target_w * target_h) / (IMAGE_SIZE * IMAGE_SIZE)\n",
        "  l = tf.cast(l, tf.float32)\n",
        "\n",
        "  ## Combine labels\n",
        "  label = l*label1+(1-l)*label2\n",
        "\n",
        "  return image, label"
      ],
      "execution_count": 8,
      "outputs": []
    },
    {
      "cell_type": "code",
      "metadata": {
        "id": "8cY4g_nQM42d"
      },
      "source": [
        "train_ds_cmu = (\n",
        "    train_ds\n",
        "    .map(cutmix, num_parallel_calls=AUTO)\n",
        ")"
      ],
      "execution_count": 9,
      "outputs": []
    },
    {
      "cell_type": "code",
      "metadata": {
        "colab": {
          "base_uri": "https://localhost:8080/",
          "height": 575
        },
        "id": "ivIbs5FAS-Vv",
        "outputId": "f64e48d9-0709-4784-d3d6-cd284097cfa8"
      },
      "source": [
        "sample_images, sample_labels = next(iter(train_ds_cmu))\n",
        "plt.figure(figsize=(10, 10))\n",
        "for i, (image, label) in enumerate(zip(sample_images[:9], sample_labels[:9])):\n",
        "    ax = plt.subplot(3, 3, i + 1)\n",
        "    # plt.title(class_names[np.argmax(label.numpy().tolist())])\n",
        "    plt.imshow(image.numpy().squeeze())\n",
        "    plt.axis(\"off\")"
      ],
      "execution_count": 10,
      "outputs": [
        {
          "output_type": "display_data",
          "data": {
            "image/png": "[encoded data removed]",
            "text/plain": [
              "<Figure size 720x720 with 9 Axes>"
            ]
          },
          "metadata": {
            "tags": [],
            "needs_background": "light"
          }
        }
      ]
    },
    {
      "cell_type": "code",
      "metadata": {
        "id": "nYbUO-qI7A2w"
      },
      "source": [
        "def training_model():\n",
        "    model = tf.keras.Sequential(\n",
        "        [\n",
        "            layers.Conv2D(32, (5, 5), activation=\"relu\", input_shape=(32, 32, 3)),\n",
        "            layers.MaxPooling2D(pool_size=(2, 2)),\n",
        "            layers.Conv2D(64, (5, 5), activation=\"relu\"),\n",
        "            layers.MaxPooling2D(pool_size=(2, 2)),\n",
        "            layers.GlobalAvgPool2D(),\n",
        "            layers.Dense(128, activation=\"relu\"),\n",
        "            layers.Dense(10, activation=\"softmax\"),\n",
        "        ]\n",
        "    )\n",
        "    return model"
      ],
      "execution_count": 11,
      "outputs": []
    },
    {
      "cell_type": "code",
      "metadata": {
        "id": "m11mTosKutoe"
      },
      "source": [
        "initial_model = training_model()\n",
        "initial_model.save_weights(\"initial_weights.h5\")"
      ],
      "execution_count": 12,
      "outputs": []
    },
    {
      "cell_type": "code",
      "metadata": {
        "colab": {
          "base_uri": "https://localhost:8080/"
        },
        "id": "NLFU8-BiuwZX",
        "outputId": "ef84f60d-62b7-41db-fe7e-9f7b6f9e6f4c"
      },
      "source": [
        "model = training_model()\n",
        "model.load_weights(\"initial_weights.h5\")\n",
        "model.compile(loss=\"categorical_crossentropy\", optimizer=\"adam\", metrics=[\"accuracy\"])\n",
        "model.fit(train_ds_cmu, validation_data=val_ds, epochs=EPOCHS)\n",
        "test_loss, test_accuracy = model.evaluate(test_ds)\n",
        "print(\"Test accuracy: {:.2f}%\".format(test_accuracy * 100))"
      ],
      "execution_count": 13,
      "outputs": [
        {
          "output_type": "stream",
          "text": [
            "Epoch 1/5\n",
            "774/774 [==============================] - 37s 7ms/step - loss: 2.1571 - accuracy: 0.1965 - val_loss: 1.6927 - val_accuracy: 0.3860\n",
            "Epoch 2/5\n",
            "774/774 [==============================] - 5s 7ms/step - loss: 1.9718 - accuracy: 0.3071 - val_loss: 1.5451 - val_accuracy: 0.4600\n",
            "Epoch 3/5\n",
            "774/774 [==============================] - 5s 6ms/step - loss: 1.9137 - accuracy: 0.3481 - val_loss: 1.5103 - val_accuracy: 0.4520\n",
            "Epoch 4/5\n",
            "774/774 [==============================] - 5s 6ms/step - loss: 1.8569 - accuracy: 0.3759 - val_loss: 1.4570 - val_accuracy: 0.5180\n",
            "Epoch 5/5\n",
            "774/774 [==============================] - 5s 6ms/step - loss: 1.8394 - accuracy: 0.3923 - val_loss: 1.3591 - val_accuracy: 0.5460\n",
            "157/157 [==============================] - 1s 3ms/step - loss: 1.3680 - accuracy: 0.5258\n",
            "Test accuracy: 52.58%\n"
          ],
          "name": "stdout"
        }
      ]
    },
    {
      "cell_type": "code",
      "metadata": {
        "colab": {
          "base_uri": "https://localhost:8080/"
        },
        "id": "uXCDAFq_HlSh",
        "outputId": "df93c722-93f2-4d29-c515-a2bd5b631711"
      },
      "source": [
        "model = training_model()\n",
        "model.load_weights(\"initial_weights.h5\")\n",
        "model.compile(loss=\"categorical_crossentropy\", optimizer=\"adam\", metrics=[\"accuracy\"])\n",
        "\n",
        "# Notice that we are NOT using the mixed up dataset here\n",
        "model.fit(train_ds_one, validation_data=val_ds, epochs=EPOCHS)\n",
        "\n",
        "test_loss, test_acc = model.evaluate(test_ds)\n",
        "print(\"Test accuracy: {:.2f}%\".format(test_acc * 100))"
      ],
      "execution_count": 14,
      "outputs": [
        {
          "output_type": "stream",
          "text": [
            "Epoch 1/5\n",
            "774/774 [==============================] - 4s 4ms/step - loss: 1.9720 - accuracy: 0.2465 - val_loss: 1.6291 - val_accuracy: 0.3660\n",
            "Epoch 2/5\n",
            "774/774 [==============================] - 3s 4ms/step - loss: 1.6017 - accuracy: 0.4010 - val_loss: 1.4384 - val_accuracy: 0.4500\n",
            "Epoch 3/5\n",
            "774/774 [==============================] - 3s 4ms/step - loss: 1.4621 - accuracy: 0.4627 - val_loss: 1.3353 - val_accuracy: 0.5000\n",
            "Epoch 4/5\n",
            "774/774 [==============================] - 3s 4ms/step - loss: 1.3491 - accuracy: 0.5108 - val_loss: 1.2837 - val_accuracy: 0.5160\n",
            "Epoch 5/5\n",
            "774/774 [==============================] - 3s 4ms/step - loss: 1.2680 - accuracy: 0.5459 - val_loss: 1.1902 - val_accuracy: 0.5700\n",
            "157/157 [==============================] - 1s 3ms/step - loss: 1.2172 - accuracy: 0.5693\n",
            "Test accuracy: 56.93%\n"
          ],
          "name": "stdout"
        }
      ]
    },
    {
      "cell_type": "code",
      "metadata": {
        "id": "DJmlMOQQILIU"
      },
      "source": [
        ""
      ],
      "execution_count": 14,
      "outputs": []
    }
  ]
}