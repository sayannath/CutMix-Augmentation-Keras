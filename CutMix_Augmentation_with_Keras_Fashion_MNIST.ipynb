{
  "nbformat": 4,
  "nbformat_minor": 0,
  "metadata": {
    "colab": {
      "name": "CutMix Augmentation with Keras - Fashion MNIST.ipynb",
      "provenance": [],
      "collapsed_sections": []
    },
    "kernelspec": {
      "name": "python3",
      "display_name": "Python 3"
    },
    "language_info": {
      "name": "python"
    },
    "accelerator": "GPU"
  },
  "cells": [
    {
      "cell_type": "code",
      "metadata": {
        "colab": {
          "base_uri": "https://localhost:8080/"
        },
        "id": "UNX0owPWHQSi",
        "outputId": "79765cdd-2268-4164-cb1b-87ccddc107c7"
      },
      "source": [
        "!nvidia-smi"
      ],
      "execution_count": 1,
      "outputs": [
        {
          "output_type": "stream",
          "text": [
            "Wed Mar 24 14:35:29 2021       \n",
            "+-----------------------------------------------------------------------------+\n",
            "| NVIDIA-SMI 460.56       Driver Version: 460.32.03    CUDA Version: 11.2     |\n",
            "|-------------------------------+----------------------+----------------------+\n",
            "| GPU  Name        Persistence-M| Bus-Id        Disp.A | Volatile Uncorr. ECC |\n",
            "| Fan  Temp  Perf  Pwr:Usage/Cap|         Memory-Usage | GPU-Util  Compute M. |\n",
            "|                               |                      |               MIG M. |\n",
            "|===============================+======================+======================|\n",
            "|   0  Tesla T4            Off  | 00000000:00:04.0 Off |                    0 |\n",
            "| N/A   51C    P8    10W /  70W |      0MiB / 15109MiB |      0%      Default |\n",
            "|                               |                      |                  N/A |\n",
            "+-------------------------------+----------------------+----------------------+\n",
            "                                                                               \n",
            "+-----------------------------------------------------------------------------+\n",
            "| Processes:                                                                  |\n",
            "|  GPU   GI   CI        PID   Type   Process name                  GPU Memory |\n",
            "|        ID   ID                                                   Usage      |\n",
            "|=============================================================================|\n",
            "|  No running processes found                                                 |\n",
            "+-----------------------------------------------------------------------------+\n"
          ],
          "name": "stdout"
        }
      ]
    },
    {
      "cell_type": "code",
      "metadata": {
        "id": "ec4Vwg7oHYho"
      },
      "source": [
        "import numpy as np\n",
        "import pandas as pd\n",
        "import tensorflow as tf\n",
        "import matplotlib.pyplot as plt\n",
        "from tensorflow.keras import layers\n",
        "\n",
        "import tensorflow_probability as tfp\n",
        "tfd = tfp.distributions"
      ],
      "execution_count": 2,
      "outputs": []
    },
    {
      "cell_type": "code",
      "metadata": {
        "id": "sPczb7Tn50IN"
      },
      "source": [
        "class_name = ['T-shirt/top', 'Trouser', 'Pullover', 'Dress', 'Coat', 'Sandal', 'Shirt', 'Sneaker', 'Bag', 'Ankle Boot']"
      ],
      "execution_count": 3,
      "outputs": []
    },
    {
      "cell_type": "code",
      "metadata": {
        "id": "6rIGKat2Hg6y",
        "colab": {
          "base_uri": "https://localhost:8080/"
        },
        "outputId": "2d09e25d-8473-49a8-8296-487bfbd2750f"
      },
      "source": [
        "fashion_mnist = tf.keras.datasets.fashion_mnist\n",
        "(x_train, y_train), (x_test, y_test) = fashion_mnist.load_data()\n",
        "\n",
        "x_train = x_train.astype(\"float32\") / 255.0\n",
        "x_train = np.reshape(x_train, (-1, 28, 28, 1))\n",
        "y_train = tf.one_hot(y_train, 10)\n",
        "\n",
        "x_test = x_test.astype(\"float32\") / 255.0\n",
        "x_test = np.reshape(x_test, (-1, 28, 28, 1))\n",
        "y_test = tf.one_hot(y_test, 10)"
      ],
      "execution_count": 4,
      "outputs": [
        {
          "output_type": "stream",
          "text": [
            "Downloading data from https://storage.googleapis.com/tensorflow/tf-keras-datasets/train-labels-idx1-ubyte.gz\n",
            "32768/29515 [=================================] - 0s 0us/step\n",
            "Downloading data from https://storage.googleapis.com/tensorflow/tf-keras-datasets/train-images-idx3-ubyte.gz\n",
            "26427392/26421880 [==============================] - 0s 0us/step\n",
            "Downloading data from https://storage.googleapis.com/tensorflow/tf-keras-datasets/t10k-labels-idx1-ubyte.gz\n",
            "8192/5148 [===============================================] - 0s 0us/step\n",
            "Downloading data from https://storage.googleapis.com/tensorflow/tf-keras-datasets/t10k-images-idx3-ubyte.gz\n",
            "4423680/4422102 [==============================] - 0s 0us/step\n"
          ],
          "name": "stdout"
        }
      ]
    },
    {
      "cell_type": "code",
      "metadata": {
        "colab": {
          "base_uri": "https://localhost:8080/"
        },
        "id": "VCUKVdCLKIGH",
        "outputId": "2a77f67b-9b9c-499f-e20d-9d10e4b28046"
      },
      "source": [
        "print(\"Shape of x_train: \",x_train.shape)\n",
        "print(\"Shape of y_train: \",y_train.shape)\n",
        "print(\"Shape of x_test: \",x_test.shape)\n",
        "print(\"Shape of y_test: \",y_test.shape)"
      ],
      "execution_count": 5,
      "outputs": [
        {
          "output_type": "stream",
          "text": [
            "Shape of x_train:  (60000, 28, 28, 1)\n",
            "Shape of y_train:  (60000, 10)\n",
            "Shape of x_test:  (10000, 28, 28, 1)\n",
            "Shape of y_test:  (10000, 10)\n"
          ],
          "name": "stdout"
        }
      ]
    },
    {
      "cell_type": "code",
      "metadata": {
        "id": "LsCbTs3DIBFD"
      },
      "source": [
        "AUTO = tf.data.AUTOTUNE\n",
        "BATCH_SIZE = 32\n",
        "EPOCHS = 10\n",
        "IMAGE_SIZE = 28"
      ],
      "execution_count": 6,
      "outputs": []
    },
    {
      "cell_type": "code",
      "metadata": {
        "id": "nFHUACbwpN0y"
      },
      "source": [
        "simple_aug = tf.keras.Sequential(\n",
        "    [\n",
        "        layers.experimental.preprocessing.Resizing(IMAGE_SIZE, IMAGE_SIZE),\n",
        "        layers.experimental.preprocessing.RandomFlip(\"horizontal\"),\n",
        "        layers.experimental.preprocessing.RandomRotation(factor=0.02),\n",
        "        layers.experimental.preprocessing.RandomZoom(\n",
        "            height_factor=0.2, width_factor=0.2\n",
        "        ),\n",
        "    ]\n",
        ")"
      ],
      "execution_count": 7,
      "outputs": []
    },
    {
      "cell_type": "code",
      "metadata": {
        "id": "4HyzCN0PrdF9"
      },
      "source": [
        "# Put aside a few samples to create our validation set\n",
        "val_samples = 1000\n",
        "x_val, y_val = x_train[:val_samples], y_train[:val_samples]\n",
        "new_x_train, new_y_train = x_train[val_samples:], y_train[val_samples:]\n",
        "\n",
        "train_ds_one = (\n",
        "    tf.data.Dataset.from_tensor_slices((new_x_train, new_y_train))\n",
        "    .shuffle(BATCH_SIZE * 100)\n",
        "    .batch(BATCH_SIZE)\n",
        "    .map(lambda x, y: (simple_aug(x), y), num_parallel_calls=AUTO)\n",
        ")\n",
        "train_ds_two = (\n",
        "    tf.data.Dataset.from_tensor_slices((new_x_train, new_y_train))\n",
        "    .shuffle(BATCH_SIZE * 100)\n",
        "    .batch(BATCH_SIZE)\n",
        "    .map(lambda x, y: (simple_aug(x), y), num_parallel_calls=AUTO)\n",
        ")\n",
        "# Because we will be mixing up the images and their corresponding labels, we will be\n",
        "# combining two shuffled datasets from the same training data.\n",
        "train_ds = tf.data.Dataset.zip((train_ds_one, train_ds_two))\n",
        "\n",
        "val_ds = tf.data.Dataset.from_tensor_slices((x_val, y_val)).batch(BATCH_SIZE)\n",
        "\n",
        "test_ds = tf.data.Dataset.from_tensor_slices((x_test, y_test)).batch(BATCH_SIZE)"
      ],
      "execution_count": 8,
      "outputs": []
    },
    {
      "cell_type": "code",
      "metadata": {
        "id": "OOtEas0nMze2"
      },
      "source": [
        "@tf.function\n",
        "def get_bbox(l):\n",
        "  cut_rat = tf.math.sqrt(1.-l)\n",
        "\n",
        "  cut_w = IMAGE_SIZE*cut_rat #rw\n",
        "  cut_w = tf.cast(cut_w, tf.int32)\n",
        "  \n",
        "  cut_h = IMAGE_SIZE*cut_rat #rh\n",
        "  cut_h = tf.cast(cut_h, tf.int32)\n",
        "  \n",
        "  cx = tf.random.uniform((1,), minval=0, maxval=IMAGE_SIZE, dtype=tf.int32) #rx\n",
        "  cy = tf.random.uniform((1,), minval=0, maxval=IMAGE_SIZE, dtype=tf.int32) #ry\n",
        "  \n",
        "  bbx1 = tf.clip_by_value(cx[0] - cut_w // 2, 0, IMAGE_SIZE)\n",
        "  bby1 = tf.clip_by_value(cy[0] - cut_h // 2, 0, IMAGE_SIZE)\n",
        "  bbx2 = tf.clip_by_value(cx[0] + cut_w // 2, 0, IMAGE_SIZE)\n",
        "  bby2 = tf.clip_by_value(cy[0] + cut_h // 2, 0, IMAGE_SIZE)\n",
        "  \n",
        "  target_h = bby2-bby1\n",
        "  if target_h ==0:\n",
        "    target_h+=1\n",
        "\n",
        "  target_w = bbx2-bbx1\n",
        "  if target_w ==0:\n",
        "    target_w+=1\n",
        "\n",
        "  return bbx1, bby1, target_h, target_w\n",
        "\n",
        "@tf.function\n",
        "def cutmix(a, b):\n",
        "  \n",
        "  (image1, label1), (image2, label2) = a, b\n",
        "\n",
        "  alpha = [1.]\n",
        "  beta = [1.]\n",
        "  \n",
        "  ## Get sample from beta distribution\n",
        "  dist = tfd.Beta(alpha, beta)\n",
        "  ## Lambda\n",
        "  l = dist.sample(1)[0][0]\n",
        "\n",
        "  ## Get bbox ofsets and heights anda widths\n",
        "  bbx1, bby1, target_h, target_w = get_bbox(l)\n",
        "\n",
        "  ## Get patch from image2\n",
        "  crop2 = tf.image.crop_to_bounding_box(image2, bby1, bbx1, target_h, target_w)\n",
        "  ## Pad the patch with same offset\n",
        "  image2 = tf.image.pad_to_bounding_box(crop2, bby1, bbx1, IMAGE_SIZE, IMAGE_SIZE)\n",
        "  ## Get patch from image1\n",
        "  crop1 = tf.image.crop_to_bounding_box(image1, bby1, bbx1, target_h, target_w)\n",
        "  ## Pad the patch with same offset\n",
        "  img1 = tf.image.pad_to_bounding_box(crop1, bby1, bbx1, IMAGE_SIZE, IMAGE_SIZE)\n",
        "\n",
        "  ## Subtract the patch from image1 so that patch from image2 can be put on instead\n",
        "  image1 = image1-img1\n",
        "  ## Add modified image1 and image2 to get cutmix image\n",
        "  image = image1+image2\n",
        "\n",
        "  ## Adjust lambda according to pixel ration\n",
        "  l = 1 - (target_w * target_h) / (IMAGE_SIZE * IMAGE_SIZE)\n",
        "  l = tf.cast(l, tf.float32)\n",
        "\n",
        "  ## Combine labels\n",
        "  label = l*label1+(1-l)*label2\n",
        "\n",
        "  return image, label"
      ],
      "execution_count": 9,
      "outputs": []
    },
    {
      "cell_type": "code",
      "metadata": {
        "id": "8cY4g_nQM42d"
      },
      "source": [
        "train_ds_cmu = (\n",
        "    train_ds\n",
        "    .map(cutmix, num_parallel_calls=AUTO)\n",
        ")"
      ],
      "execution_count": 10,
      "outputs": []
    },
    {
      "cell_type": "code",
      "metadata": {
        "colab": {
          "base_uri": "https://localhost:8080/",
          "height": 591
        },
        "id": "ivIbs5FAS-Vv",
        "outputId": "f65728b3-e0df-4411-e0ee-a3e78bfaa9dd"
      },
      "source": [
        "sample_images, sample_labels = next(iter(train_ds_cmu))\n",
        "plt.figure(figsize=(10, 10))\n",
        "for i, (image, label) in enumerate(zip(sample_images[:9], sample_labels[:9])):\n",
        "    ax = plt.subplot(3, 3, i + 1)\n",
        "    plt.title(class_name[np.argmax(label.numpy().tolist())])\n",
        "    plt.imshow(image.numpy().squeeze())\n",
        "    plt.axis(\"off\")"
      ],
      "execution_count": 11,
      "outputs": [
        {
          "output_type": "display_data",
          "data": {
            "image/png": "[encoded data removed]",
            "text/plain": [
              "<Figure size 720x720 with 9 Axes>"
            ]
          },
          "metadata": {
            "tags": [],
            "needs_background": "light"
          }
        }
      ]
    },
    {
      "cell_type": "code",
      "metadata": {
        "id": "nYbUO-qI7A2w"
      },
      "source": [
        "def training_model():\n",
        "    model = tf.keras.Sequential(\n",
        "        [\n",
        "            layers.Conv2D(16, (5, 5), activation=\"relu\", input_shape=(28, 28, 1)),\n",
        "            layers.MaxPooling2D(pool_size=(2, 2)),\n",
        "            layers.Conv2D(32, (5, 5), activation=\"relu\"),\n",
        "            layers.MaxPooling2D(pool_size=(2, 2)),\n",
        "            layers.Dropout(0.2),\n",
        "            layers.GlobalAvgPool2D(),\n",
        "            layers.Dense(128, activation=\"relu\"),\n",
        "            layers.Dense(10, activation=\"softmax\"),\n",
        "        ]\n",
        "    )\n",
        "    return model"
      ],
      "execution_count": 12,
      "outputs": []
    },
    {
      "cell_type": "code",
      "metadata": {
        "id": "m11mTosKutoe"
      },
      "source": [
        "initial_model = training_model()\n",
        "initial_model.save_weights(\"initial_weights.h5\")"
      ],
      "execution_count": 13,
      "outputs": []
    },
    {
      "cell_type": "code",
      "metadata": {
        "colab": {
          "base_uri": "https://localhost:8080/"
        },
        "id": "j2zn4cH5wer1",
        "outputId": "d0678105-323d-49fc-bd9f-07855625df8f"
      },
      "source": [
        "print(len(train_ds_cmu))"
      ],
      "execution_count": 14,
      "outputs": [
        {
          "output_type": "stream",
          "text": [
            "1844\n"
          ],
          "name": "stdout"
        }
      ]
    },
    {
      "cell_type": "code",
      "metadata": {
        "colab": {
          "base_uri": "https://localhost:8080/"
        },
        "id": "NLFU8-BiuwZX",
        "outputId": "0b215eff-59de-49db-dda3-5a881a9b15b8"
      },
      "source": [
        "model = training_model()\n",
        "model.load_weights(\"initial_weights.h5\")\n",
        "model.compile(loss=\"categorical_crossentropy\", optimizer=\"adam\", metrics=[\"accuracy\"])\n",
        "model.fit(train_ds_cmu, validation_data=val_ds, epochs=EPOCHS)\n",
        "test_loss, test_accuracy = model.evaluate(test_ds)\n",
        "print(\"Test accuracy: {:.2f}%\".format(test_accuracy * 100))"
      ],
      "execution_count": 15,
      "outputs": [
        {
          "output_type": "stream",
          "text": [
            "Epoch 1/10\n",
            "1844/1844 [==============================] - 45s 7ms/step - loss: 1.8161 - accuracy: 0.3939 - val_loss: 0.7849 - val_accuracy: 0.7300\n",
            "Epoch 2/10\n",
            "1844/1844 [==============================] - 13s 7ms/step - loss: 1.5441 - accuracy: 0.5402 - val_loss: 0.6758 - val_accuracy: 0.7500\n",
            "Epoch 3/10\n",
            "1844/1844 [==============================] - 13s 7ms/step - loss: 1.4644 - accuracy: 0.5711 - val_loss: 0.6405 - val_accuracy: 0.7730\n",
            "Epoch 4/10\n",
            "1844/1844 [==============================] - 13s 7ms/step - loss: 1.4346 - accuracy: 0.5880 - val_loss: 0.6141 - val_accuracy: 0.7910\n",
            "Epoch 5/10\n",
            "1844/1844 [==============================] - 13s 7ms/step - loss: 1.4041 - accuracy: 0.5986 - val_loss: 0.6053 - val_accuracy: 0.7960\n",
            "Epoch 6/10\n",
            "1844/1844 [==============================] - 13s 7ms/step - loss: 1.3857 - accuracy: 0.6037 - val_loss: 0.5435 - val_accuracy: 0.8230\n",
            "Epoch 7/10\n",
            "1844/1844 [==============================] - 13s 7ms/step - loss: 1.3553 - accuracy: 0.6198 - val_loss: 0.5380 - val_accuracy: 0.8290\n",
            "Epoch 8/10\n",
            "1844/1844 [==============================] - 13s 7ms/step - loss: 1.3623 - accuracy: 0.6180 - val_loss: 0.5275 - val_accuracy: 0.8310\n",
            "Epoch 9/10\n",
            "1844/1844 [==============================] - 13s 7ms/step - loss: 1.3201 - accuracy: 0.6347 - val_loss: 0.5138 - val_accuracy: 0.8350\n",
            "Epoch 10/10\n",
            "1844/1844 [==============================] - 13s 7ms/step - loss: 1.3186 - accuracy: 0.6354 - val_loss: 0.5127 - val_accuracy: 0.8450\n",
            "313/313 [==============================] - 1s 2ms/step - loss: 0.5524 - accuracy: 0.8243\n",
            "Test accuracy: 82.43%\n"
          ],
          "name": "stdout"
        }
      ]
    },
    {
      "cell_type": "code",
      "metadata": {
        "colab": {
          "base_uri": "https://localhost:8080/"
        },
        "id": "uXCDAFq_HlSh",
        "outputId": "b14ea5a2-f9e5-4f86-b2c2-dea3a30d0a87"
      },
      "source": [
        "model = training_model()\n",
        "model.load_weights(\"initial_weights.h5\")\n",
        "model.compile(loss=\"categorical_crossentropy\", optimizer=\"adam\", metrics=[\"accuracy\"])\n",
        "\n",
        "# Notice that we are NOT using the mixed up dataset here\n",
        "model.fit(train_ds_one, validation_data=val_ds, epochs=EPOCHS)\n",
        "\n",
        "test_loss, test_acc = model.evaluate(test_ds)\n",
        "print(\"Test accuracy: {:.2f}%\".format(test_acc * 100))"
      ],
      "execution_count": 16,
      "outputs": [
        {
          "output_type": "stream",
          "text": [
            "Epoch 1/10\n",
            "1844/1844 [==============================] - 9s 5ms/step - loss: 1.2278 - accuracy: 0.5364 - val_loss: 0.6636 - val_accuracy: 0.7430\n",
            "Epoch 2/10\n",
            "1844/1844 [==============================] - 8s 4ms/step - loss: 0.7218 - accuracy: 0.7269 - val_loss: 0.5545 - val_accuracy: 0.7930\n",
            "Epoch 3/10\n",
            "1844/1844 [==============================] - 8s 4ms/step - loss: 0.6350 - accuracy: 0.7563 - val_loss: 0.4964 - val_accuracy: 0.8010\n",
            "Epoch 4/10\n",
            "1844/1844 [==============================] - 8s 4ms/step - loss: 0.5781 - accuracy: 0.7825 - val_loss: 0.4058 - val_accuracy: 0.8450\n",
            "Epoch 5/10\n",
            "1844/1844 [==============================] - 8s 4ms/step - loss: 0.5340 - accuracy: 0.7989 - val_loss: 0.3843 - val_accuracy: 0.8530\n",
            "Epoch 6/10\n",
            "1844/1844 [==============================] - 8s 4ms/step - loss: 0.5079 - accuracy: 0.8093 - val_loss: 0.3730 - val_accuracy: 0.8570\n",
            "Epoch 7/10\n",
            "1844/1844 [==============================] - 8s 4ms/step - loss: 0.4871 - accuracy: 0.8194 - val_loss: 0.3410 - val_accuracy: 0.8630\n",
            "Epoch 8/10\n",
            "1844/1844 [==============================] - 8s 4ms/step - loss: 0.4637 - accuracy: 0.8238 - val_loss: 0.3444 - val_accuracy: 0.8680\n",
            "Epoch 9/10\n",
            "1844/1844 [==============================] - 8s 4ms/step - loss: 0.4531 - accuracy: 0.8305 - val_loss: 0.3414 - val_accuracy: 0.8710\n",
            "Epoch 10/10\n",
            "1844/1844 [==============================] - 8s 4ms/step - loss: 0.4470 - accuracy: 0.8334 - val_loss: 0.3253 - val_accuracy: 0.8680\n",
            "313/313 [==============================] - 1s 2ms/step - loss: 0.3830 - accuracy: 0.8625\n",
            "Test accuracy: 86.25%\n"
          ],
          "name": "stdout"
        }
      ]
    },
    {
      "cell_type": "code",
      "metadata": {
        "id": "DJmlMOQQILIU"
      },
      "source": [
        ""
      ],
      "execution_count": 16,
      "outputs": []
    }
  ]
}