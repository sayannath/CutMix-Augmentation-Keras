{
  "nbformat": 4,
  "nbformat_minor": 0,
  "metadata": {
    "colab": {
      "name": "CutMix Augmentation with Keras - Fashion MNIST.ipynb",
      "provenance": [],
      "collapsed_sections": []
    },
    "kernelspec": {
      "name": "python3",
      "display_name": "Python 3"
    },
    "language_info": {
      "name": "python"
    },
    "accelerator": "GPU"
  },
  "cells": [
    {
      "cell_type": "code",
      "metadata": {
        "colab": {
          "base_uri": "https://localhost:8080/"
        },
        "id": "UNX0owPWHQSi",
        "outputId": "d60cd4b1-5e50-4d6e-fed0-aebf47320e14"
      },
      "source": [
        "!nvidia-smi"
      ],
      "execution_count": 1,
      "outputs": [
        {
          "output_type": "stream",
          "text": [
            "Mon Mar 22 18:29:10 2021       \n",
            "+-----------------------------------------------------------------------------+\n",
            "| NVIDIA-SMI 460.56       Driver Version: 460.32.03    CUDA Version: 11.2     |\n",
            "|-------------------------------+----------------------+----------------------+\n",
            "| GPU  Name        Persistence-M| Bus-Id        Disp.A | Volatile Uncorr. ECC |\n",
            "| Fan  Temp  Perf  Pwr:Usage/Cap|         Memory-Usage | GPU-Util  Compute M. |\n",
            "|                               |                      |               MIG M. |\n",
            "|===============================+======================+======================|\n",
            "|   0  Tesla T4            Off  | 00000000:00:04.0 Off |                    0 |\n",
            "| N/A   70C    P8    12W /  70W |      0MiB / 15109MiB |      0%      Default |\n",
            "|                               |                      |                  N/A |\n",
            "+-------------------------------+----------------------+----------------------+\n",
            "                                                                               \n",
            "+-----------------------------------------------------------------------------+\n",
            "| Processes:                                                                  |\n",
            "|  GPU   GI   CI        PID   Type   Process name                  GPU Memory |\n",
            "|        ID   ID                                                   Usage      |\n",
            "|=============================================================================|\n",
            "|  No running processes found                                                 |\n",
            "+-----------------------------------------------------------------------------+\n"
          ],
          "name": "stdout"
        }
      ]
    },
    {
      "cell_type": "code",
      "metadata": {
        "id": "ec4Vwg7oHYho"
      },
      "source": [
        "import numpy as np\n",
        "import pandas as pd\n",
        "import tensorflow as tf\n",
        "import matplotlib.pyplot as plt\n",
        "from tensorflow.keras import layers\n",
        "\n",
        "import tensorflow_probability as tfp\n",
        "tfd = tfp.distributions"
      ],
      "execution_count": 2,
      "outputs": []
    },
    {
      "cell_type": "code",
      "metadata": {
        "id": "sPczb7Tn50IN"
      },
      "source": [
        "class_name = ['T-shirt/top', 'Trouser', 'Pullover', 'Dress', 'Coat', 'Sandal', 'Shirt', 'Sneaker', 'Bag', 'Ankle Boot']"
      ],
      "execution_count": 3,
      "outputs": []
    },
    {
      "cell_type": "code",
      "metadata": {
        "id": "6rIGKat2Hg6y"
      },
      "source": [
        "fashion_mnist = tf.keras.datasets.fashion_mnist\n",
        "(x_train, y_train), (x_test, y_test) = fashion_mnist.load_data()\n",
        "\n",
        "x_train = x_train.astype(\"float32\") / 255.0\n",
        "x_train = np.reshape(x_train, (-1, 28, 28, 1))\n",
        "y_train = tf.one_hot(y_train, 10)\n",
        "\n",
        "x_test = x_test.astype(\"float32\") / 255.0\n",
        "x_test = np.reshape(x_test, (-1, 28, 28, 1))\n",
        "y_test = tf.one_hot(y_test, 10)"
      ],
      "execution_count": 4,
      "outputs": []
    },
    {
      "cell_type": "code",
      "metadata": {
        "colab": {
          "base_uri": "https://localhost:8080/"
        },
        "id": "VCUKVdCLKIGH",
        "outputId": "61e12ffc-155d-4cb0-e763-024bafbdbd5b"
      },
      "source": [
        "print(\"Shape of x_train: \",x_train.shape)\n",
        "print(\"Shape of y_train: \",y_train.shape)\n",
        "print(\"Shape of x_test: \",x_test.shape)\n",
        "print(\"Shape of y_test: \",y_test.shape)"
      ],
      "execution_count": 5,
      "outputs": [
        {
          "output_type": "stream",
          "text": [
            "Shape of x_train:  (60000, 28, 28, 1)\n",
            "Shape of y_train:  (60000, 10)\n",
            "Shape of x_test:  (10000, 28, 28, 1)\n",
            "Shape of y_test:  (10000, 10)\n"
          ],
          "name": "stdout"
        }
      ]
    },
    {
      "cell_type": "code",
      "metadata": {
        "id": "LsCbTs3DIBFD"
      },
      "source": [
        "AUTO = tf.data.AUTOTUNE\n",
        "BATCH_SIZE = 32\n",
        "EPOCHS = 10\n",
        "IMAGE_SIZE = 28"
      ],
      "execution_count": 6,
      "outputs": []
    },
    {
      "cell_type": "code",
      "metadata": {
        "id": "4HyzCN0PrdF9"
      },
      "source": [
        "# Put aside a few samples to create our validation set\n",
        "val_samples = 1000\n",
        "x_val, y_val = x_train[:val_samples], y_train[:val_samples]\n",
        "new_x_train, new_y_train = x_train[val_samples:], y_train[val_samples:]\n",
        "\n",
        "train_ds_one = (\n",
        "    tf.data.Dataset.from_tensor_slices((new_x_train, new_y_train))\n",
        "    .shuffle(BATCH_SIZE * 100)\n",
        "    .batch(BATCH_SIZE)\n",
        ")\n",
        "train_ds_two = (\n",
        "    tf.data.Dataset.from_tensor_slices((new_x_train, new_y_train))\n",
        "    .shuffle(BATCH_SIZE * 100)\n",
        "    .batch(BATCH_SIZE)\n",
        ")\n",
        "# Because we will be mixing up the images and their corresponding labels, we will be\n",
        "# combining two shuffled datasets from the same training data.\n",
        "train_ds = tf.data.Dataset.zip((train_ds_one, train_ds_two))\n",
        "\n",
        "val_ds = tf.data.Dataset.from_tensor_slices((x_val, y_val)).batch(BATCH_SIZE)\n",
        "\n",
        "test_ds = tf.data.Dataset.from_tensor_slices((x_test, y_test)).batch(BATCH_SIZE)"
      ],
      "execution_count": 7,
      "outputs": []
    },
    {
      "cell_type": "code",
      "metadata": {
        "id": "OOtEas0nMze2"
      },
      "source": [
        "@tf.function\n",
        "def get_bbox(l):\n",
        "  cut_rat = tf.math.sqrt(1.-l)\n",
        "\n",
        "  cut_w = IMAGE_SIZE*cut_rat #rw\n",
        "  cut_w = tf.cast(cut_w, tf.int32)\n",
        "  \n",
        "  cut_h = IMAGE_SIZE*cut_rat #rh\n",
        "  cut_h = tf.cast(cut_h, tf.int32)\n",
        "  \n",
        "  cx = tf.random.uniform((1,), minval=0, maxval=IMAGE_SIZE, dtype=tf.int32) #rx\n",
        "  cy = tf.random.uniform((1,), minval=0, maxval=IMAGE_SIZE, dtype=tf.int32) #ry\n",
        "  \n",
        "  bbx1 = tf.clip_by_value(cx[0] - cut_w // 2, 0, IMAGE_SIZE)\n",
        "  bby1 = tf.clip_by_value(cy[0] - cut_h // 2, 0, IMAGE_SIZE)\n",
        "  bbx2 = tf.clip_by_value(cx[0] + cut_w // 2, 0, IMAGE_SIZE)\n",
        "  bby2 = tf.clip_by_value(cy[0] + cut_h // 2, 0, IMAGE_SIZE)\n",
        "  \n",
        "  target_h = bby2-bby1\n",
        "  if target_h ==0:\n",
        "    target_h+=1\n",
        "\n",
        "  target_w = bbx2-bbx1\n",
        "  if target_w ==0:\n",
        "    target_w+=1\n",
        "\n",
        "  return bbx1, bby1, target_h, target_w\n",
        "\n",
        "@tf.function\n",
        "def cutmix(a, b):\n",
        "  \n",
        "  (image1, label1), (image2, label2) = a, b\n",
        "\n",
        "  alpha = [1.]\n",
        "  beta = [1.]\n",
        "  \n",
        "  ## Get sample from beta distribution\n",
        "  dist = tfd.Beta(alpha, beta)\n",
        "  ## Lambda\n",
        "  l = dist.sample(1)[0][0]\n",
        "\n",
        "  ## Get bbox ofsets and heights anda widths\n",
        "  bbx1, bby1, target_h, target_w = get_bbox(l)\n",
        "\n",
        "  ## Get patch from image2\n",
        "  crop2 = tf.image.crop_to_bounding_box(image2, bby1, bbx1, target_h, target_w)\n",
        "  ## Pad the patch with same offset\n",
        "  image2 = tf.image.pad_to_bounding_box(crop2, bby1, bbx1, IMAGE_SIZE, IMAGE_SIZE)\n",
        "  ## Get patch from image1\n",
        "  crop1 = tf.image.crop_to_bounding_box(image1, bby1, bbx1, target_h, target_w)\n",
        "  ## Pad the patch with same offset\n",
        "  img1 = tf.image.pad_to_bounding_box(crop1, bby1, bbx1, IMAGE_SIZE, IMAGE_SIZE)\n",
        "\n",
        "  ## Subtract the patch from image1 so that patch from image2 can be put on instead\n",
        "  image1 = image1-img1\n",
        "  ## Add modified image1 and image2 to get cutmix image\n",
        "  image = image1+image2\n",
        "\n",
        "  ## Adjust lambda according to pixel ration\n",
        "  l = 1 - (target_w * target_h) / (IMAGE_SIZE * IMAGE_SIZE)\n",
        "  l = tf.cast(l, tf.float32)\n",
        "\n",
        "  ## Combine labels\n",
        "  label = l*label1+(1-l)*label2\n",
        "\n",
        "  return image, label"
      ],
      "execution_count": 8,
      "outputs": []
    },
    {
      "cell_type": "code",
      "metadata": {
        "id": "8cY4g_nQM42d"
      },
      "source": [
        "train_ds_cmu = (\n",
        "    train_ds\n",
        "    .map(cutmix, num_parallel_calls=AUTO)\n",
        ")"
      ],
      "execution_count": 9,
      "outputs": []
    },
    {
      "cell_type": "code",
      "metadata": {
        "colab": {
          "base_uri": "https://localhost:8080/",
          "height": 591
        },
        "id": "ivIbs5FAS-Vv",
        "outputId": "3a89c0f5-1a7b-4bb9-d19e-6a5b8702b132"
      },
      "source": [
        "sample_images, sample_labels = next(iter(train_ds_cmu))\n",
        "plt.figure(figsize=(10, 10))\n",
        "for i, (image, label) in enumerate(zip(sample_images[:9], sample_labels[:9])):\n",
        "    ax = plt.subplot(3, 3, i + 1)\n",
        "    plt.title(class_name[np.argmax(label.numpy().tolist())])\n",
        "    plt.imshow(image.numpy().squeeze())\n",
        "    plt.axis(\"off\")"
      ],
      "execution_count": 10,
      "outputs": [
        {
          "output_type": "display_data",
          "data": {
            "image/png": "[encoded data removed]",
            "text/plain": [
              "<Figure size 720x720 with 9 Axes>"
            ]
          },
          "metadata": {
            "tags": [],
            "needs_background": "light"
          }
        }
      ]
    },
    {
      "cell_type": "code",
      "metadata": {
        "id": "nYbUO-qI7A2w"
      },
      "source": [
        "def training_model():\n",
        "    model = tf.keras.Sequential(\n",
        "        [\n",
        "            layers.Conv2D(16, (5, 5), activation=\"relu\", input_shape=(28, 28, 1)),\n",
        "            layers.MaxPooling2D(pool_size=(2, 2)),\n",
        "            layers.Conv2D(32, (5, 5), activation=\"relu\"),\n",
        "            layers.MaxPooling2D(pool_size=(2, 2)),\n",
        "            layers.Dropout(0.2),\n",
        "            layers.GlobalAvgPool2D(),\n",
        "            layers.Dense(128, activation=\"relu\"),\n",
        "            layers.Dense(10, activation=\"softmax\"),\n",
        "        ]\n",
        "    )\n",
        "    return model"
      ],
      "execution_count": 11,
      "outputs": []
    },
    {
      "cell_type": "code",
      "metadata": {
        "id": "m11mTosKutoe"
      },
      "source": [
        "initial_model = training_model()\n",
        "initial_model.save_weights(\"initial_weights.h5\")"
      ],
      "execution_count": 12,
      "outputs": []
    },
    {
      "cell_type": "code",
      "metadata": {
        "colab": {
          "base_uri": "https://localhost:8080/"
        },
        "id": "j2zn4cH5wer1",
        "outputId": "588b21f4-181a-4ff7-a5c5-820d9a0d8b02"
      },
      "source": [
        "print(len(train_ds_cmu))"
      ],
      "execution_count": 13,
      "outputs": [
        {
          "output_type": "stream",
          "text": [
            "1844\n"
          ],
          "name": "stdout"
        }
      ]
    },
    {
      "cell_type": "code",
      "metadata": {
        "colab": {
          "base_uri": "https://localhost:8080/"
        },
        "id": "NLFU8-BiuwZX",
        "outputId": "2eb59c27-3562-49fe-dadb-226a5f97dda7"
      },
      "source": [
        "model = training_model()\n",
        "model.load_weights(\"initial_weights.h5\")\n",
        "model.compile(loss=\"categorical_crossentropy\", optimizer=\"adam\", metrics=[\"accuracy\"])\n",
        "model.fit(train_ds_cmu, validation_data=val_ds, epochs=EPOCHS)\n",
        "test_loss, test_accuracy = model.evaluate(test_ds)\n",
        "print(\"Test accuracy: {:.2f}%\".format(test_accuracy * 100))"
      ],
      "execution_count": 14,
      "outputs": [
        {
          "output_type": "stream",
          "text": [
            "Epoch 1/10\n",
            "1844/1844 [==============================] - 10s 4ms/step - loss: 1.7305 - accuracy: 0.4513 - val_loss: 0.8069 - val_accuracy: 0.7500\n",
            "Epoch 2/10\n",
            "1844/1844 [==============================] - 7s 4ms/step - loss: 1.4241 - accuracy: 0.6025 - val_loss: 0.6139 - val_accuracy: 0.7930\n",
            "Epoch 3/10\n",
            "1844/1844 [==============================] - 7s 4ms/step - loss: 1.3202 - accuracy: 0.6451 - val_loss: 0.5789 - val_accuracy: 0.8280\n",
            "Epoch 4/10\n",
            "1844/1844 [==============================] - 7s 4ms/step - loss: 1.3079 - accuracy: 0.6516 - val_loss: 0.5357 - val_accuracy: 0.8280\n",
            "Epoch 5/10\n",
            "1844/1844 [==============================] - 7s 4ms/step - loss: 1.2560 - accuracy: 0.6628 - val_loss: 0.5067 - val_accuracy: 0.8530\n",
            "Epoch 6/10\n",
            "1844/1844 [==============================] - 7s 4ms/step - loss: 1.2245 - accuracy: 0.6773 - val_loss: 0.4788 - val_accuracy: 0.8660\n",
            "Epoch 7/10\n",
            "1844/1844 [==============================] - 7s 4ms/step - loss: 1.2073 - accuracy: 0.6877 - val_loss: 0.4742 - val_accuracy: 0.8580\n",
            "Epoch 8/10\n",
            "1844/1844 [==============================] - 7s 4ms/step - loss: 1.1956 - accuracy: 0.6890 - val_loss: 0.4359 - val_accuracy: 0.8720\n",
            "Epoch 9/10\n",
            "1844/1844 [==============================] - 7s 4ms/step - loss: 1.1842 - accuracy: 0.6981 - val_loss: 0.4269 - val_accuracy: 0.8830\n",
            "Epoch 10/10\n",
            "1844/1844 [==============================] - 7s 4ms/step - loss: 1.1545 - accuracy: 0.7074 - val_loss: 0.4282 - val_accuracy: 0.8740\n",
            "313/313 [==============================] - 1s 2ms/step - loss: 0.4611 - accuracy: 0.8561\n",
            "Test accuracy: 85.61%\n"
          ],
          "name": "stdout"
        }
      ]
    },
    {
      "cell_type": "code",
      "metadata": {
        "colab": {
          "base_uri": "https://localhost:8080/"
        },
        "id": "uXCDAFq_HlSh",
        "outputId": "be40dcad-6c16-45e0-9945-34a97fa36c53"
      },
      "source": [
        "model = training_model()\n",
        "model.load_weights(\"initial_weights.h5\")\n",
        "model.compile(loss=\"categorical_crossentropy\", optimizer=\"adam\", metrics=[\"accuracy\"])\n",
        "\n",
        "# Notice that we are NOT using the mixed up dataset here\n",
        "model.fit(train_ds_one, validation_data=val_ds, epochs=EPOCHS)\n",
        "\n",
        "test_loss, test_acc = model.evaluate(test_ds)\n",
        "print(\"Test accuracy: {:.2f}%\".format(test_acc * 100))"
      ],
      "execution_count": 15,
      "outputs": [
        {
          "output_type": "stream",
          "text": [
            "Epoch 1/10\n",
            "1844/1844 [==============================] - 6s 3ms/step - loss: 1.0750 - accuracy: 0.6015 - val_loss: 0.6189 - val_accuracy: 0.7640\n",
            "Epoch 2/10\n",
            "1844/1844 [==============================] - 6s 3ms/step - loss: 0.6216 - accuracy: 0.7674 - val_loss: 0.4917 - val_accuracy: 0.8210\n",
            "Epoch 3/10\n",
            "1844/1844 [==============================] - 6s 3ms/step - loss: 0.5264 - accuracy: 0.8099 - val_loss: 0.3926 - val_accuracy: 0.8700\n",
            "Epoch 4/10\n",
            "1844/1844 [==============================] - 6s 3ms/step - loss: 0.4496 - accuracy: 0.8368 - val_loss: 0.3559 - val_accuracy: 0.8710\n",
            "Epoch 5/10\n",
            "1844/1844 [==============================] - 6s 3ms/step - loss: 0.4157 - accuracy: 0.8477 - val_loss: 0.3488 - val_accuracy: 0.8780\n",
            "Epoch 6/10\n",
            "1844/1844 [==============================] - 6s 3ms/step - loss: 0.3901 - accuracy: 0.8562 - val_loss: 0.3216 - val_accuracy: 0.8810\n",
            "Epoch 7/10\n",
            "1844/1844 [==============================] - 6s 3ms/step - loss: 0.3689 - accuracy: 0.8638 - val_loss: 0.3168 - val_accuracy: 0.8880\n",
            "Epoch 8/10\n",
            "1844/1844 [==============================] - 6s 3ms/step - loss: 0.3579 - accuracy: 0.8680 - val_loss: 0.2830 - val_accuracy: 0.9000\n",
            "Epoch 9/10\n",
            "1844/1844 [==============================] - 6s 3ms/step - loss: 0.3398 - accuracy: 0.8759 - val_loss: 0.2914 - val_accuracy: 0.8910\n",
            "Epoch 10/10\n",
            "1844/1844 [==============================] - 6s 3ms/step - loss: 0.3307 - accuracy: 0.8776 - val_loss: 0.2832 - val_accuracy: 0.9040\n",
            "313/313 [==============================] - 1s 2ms/step - loss: 0.3255 - accuracy: 0.8817\n",
            "Test accuracy: 88.17%\n"
          ],
          "name": "stdout"
        }
      ]
    },
    {
      "cell_type": "code",
      "metadata": {
        "id": "DJmlMOQQILIU"
      },
      "source": [
        ""
      ],
      "execution_count": 15,
      "outputs": []
    }
  ]
}