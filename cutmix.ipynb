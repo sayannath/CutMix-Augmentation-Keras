{
  "nbformat": 4,
  "nbformat_minor": 0,
  "metadata": {
    "colab": {
      "name": "cutmix .ipynb",
      "provenance": [],
      "collapsed_sections": [],
      "toc_visible": true
    },
    "kernelspec": {
      "name": "python3",
      "display_name": "Python 3"
    },
    "language_info": {
      "name": "python"
    },
    "accelerator": "GPU"
  },
  "cells": [
    {
      "cell_type": "markdown",
      "metadata": {
        "id": "S2qg_vxs91NV"
      },
      "source": [
        "# CutMix Augmentation for Image Classification\n",
        "\n",
        "**Author:** [Sayan Nath](https://twitter.com/SayanNa20204009)<br>\n",
        "**Date created:** 2021/03/25<br>\n",
        "**Last modified:** 2021/03/25<br>\n",
        "**Description:** Data augmentation using the CutMix technique for image classification."
      ]
    },
    {
      "cell_type": "markdown",
      "metadata": {
        "id": "d8o5dvT7-KeP"
      },
      "source": [
        "## Introduction"
      ]
    },
    {
      "cell_type": "markdown",
      "metadata": {
        "id": "KtUhqR0fZ1mI"
      },
      "source": [
        "_CutMix_ is a data augmentation technique proposed in [CutMix: Regularization Strategy to Train Strong Classifiers with Localizable Features](https://arxiv.org/pdf/1905.04899.pdf)\n",
        "by Sangdoo Yun, Dongyoon Han, Seong Joon Oh, Sanghyuk Chun,\n",
        "Junsuk Choe, Youngjoon Yoo. \n",
        "\n",
        "In CutMix Augmentation technique,instead of removing pixels and filling them with black or grey pixels or Gaussian noise a patch of similar dimension is placed from another image. \n",
        "\n",
        "The ground truth labels are mixed proportionally to the number of pixels of combined images. The labels which are linearly iinterpolated label which gets produced is proportional to the pixels which are contributing from the two images. \n",
        "\n",
        "CutMix Augmentation is used when there is presence of uninformative pixel during training.\n",
        "\n",
        "It's implemented with the following formulas:\n",
        "\n",
        "<img height=100 width=250 src=\"https://raw.githubusercontent.com/sayannath/CutMix-Augmentation---Keras/main/assets/cutmix-1.png?token=AKAF55CUC3LRB4YI7RXCO3TAMXKHU\">\n",
        "\n",
        "<!-- ![](https://raw.githubusercontent.com/sayannath/CutMix-Augmentation---Keras/main/assets/cutmix-1.png?token=AKAF55CUC3LRB4YI7RXCO3TAMXKHU) -->\n",
        "\n",
        "where M is the binary mask which indicates the cutout and the fill-in regions from the two randomly drawn images and λ is drawn from [Beta(α,α) distribution](https://en.wikipedia.org/wiki/Beta_distribution) and `λ ∈ [0, 1]`\n",
        "\n",
        "\n",
        "The coordinates of bounding boxes are <img height=40 width=150 src=\"https://raw.githubusercontent.com/sayannath/CutMix-Augmentation---Keras/main/assets/cutmix-3.png?token=AKAF55G3SW73WB34GD74ARDAMXKCA\"> which indicates the cutout and fill-in regions in case of the images.\n",
        "\n",
        "The bounding box sampling is represented by:\n",
        "\n",
        "<img height=100 width=250 src=\"https://raw.githubusercontent.com/sayannath/CutMix-Augmentation---Keras/main/assets/cutmix-2.png?token=AKAF55CDRYZPUHPXDVCGUODAMXKRS\">\n",
        "\n",
        "where `rx,ry` are randomly drawn from a uniform distribution with upper bound\n",
        "\n",
        "This example requires TensorFlow 2.4 or higher."
      ]
    },
    {
      "cell_type": "markdown",
      "metadata": {
        "id": "RdHktOHMxN_t"
      },
      "source": [
        "## Import the necessary packages"
      ]
    },
    {
      "cell_type": "code",
      "metadata": {
        "id": "jF9JLzG7AT3C"
      },
      "source": [
        "import numpy as np\n",
        "import pandas as pd\n",
        "import matplotlib.pyplot as plt\n",
        "import tensorflow as tf\n",
        "from tensorflow import keras\n",
        "from tensorflow.keras.applications import resnet50\n",
        "import tensorflow_probability as tfp\n",
        "\n",
        "np.random.seed(42)\n",
        "tf.random.set_seed(42)\n",
        "tfd = tfp.distributions\n",
        "\n",
        "%matplotlib inline"
      ],
      "execution_count": 1,
      "outputs": []
    },
    {
      "cell_type": "markdown",
      "metadata": {
        "id": "OsyqMVujxa92"
      },
      "source": [
        "## Load the CIFAR10 dataset\n",
        "\n",
        "For this example, we will be using the\n",
        "[CIFAR10 dataset](https://www.cs.toronto.edu/~kriz/cifar.html)."
      ]
    },
    {
      "cell_type": "code",
      "metadata": {
        "colab": {
          "base_uri": "https://localhost:8080/"
        },
        "id": "kLjqzw95AoOV",
        "outputId": "6f98328b-3ae8-4cf5-851d-1b56a08cfd5d"
      },
      "source": [
        "(x_train, y_train), (x_test, y_test) = tf.keras.datasets.cifar10.load_data()\n",
        "\n",
        "y_train = pd.get_dummies(y_train.flatten()).values.astype(np.float32)\n",
        "y_test = pd.get_dummies(y_test.flatten()).values.astype(np.float32)"
      ],
      "execution_count": 2,
      "outputs": [
        {
          "output_type": "stream",
          "text": [
            "Downloading data from https://www.cs.toronto.edu/~kriz/cifar-10-python.tar.gz\n",
            "170500096/170498071 [==============================] - 6s 0us/step\n"
          ],
          "name": "stdout"
        }
      ]
    },
    {
      "cell_type": "code",
      "metadata": {
        "id": "_TiyAbozDfB3"
      },
      "source": [
        "class_names = [\"Airplane\", \"Automobile\", \"Bird\", \"Cat\", \"Deer\", \"Dog\", \"Frog\", \"Horse\", \"Ship\", \"Truck\"]"
      ],
      "execution_count": 3,
      "outputs": []
    },
    {
      "cell_type": "markdown",
      "metadata": {
        "id": "GSglnCojx5nt"
      },
      "source": [
        "## Define hyperparameters"
      ]
    },
    {
      "cell_type": "code",
      "metadata": {
        "id": "zXbNlfHKA3q2"
      },
      "source": [
        "AUTO = tf.data.experimental.AUTOTUNE\n",
        "BATCH_SIZE = 32\n",
        "IMG_SHAPE = 32"
      ],
      "execution_count": 4,
      "outputs": []
    },
    {
      "cell_type": "markdown",
      "metadata": {
        "id": "_z9SarG-ypVM"
      },
      "source": [
        "## Dataloader"
      ]
    },
    {
      "cell_type": "code",
      "metadata": {
        "id": "buntzLP9A6-U"
      },
      "source": [
        "def preprocess_image(image, label):\n",
        "  image = tf.image.resize(image, (IMG_SHAPE, IMG_SHAPE))\n",
        "  image = tf.image.convert_image_dtype(image, tf.float32) / 255.\n",
        "  return image, label"
      ],
      "execution_count": 5,
      "outputs": []
    },
    {
      "cell_type": "markdown",
      "metadata": {
        "id": "PZQ1k__B2KC3"
      },
      "source": [
        "## Convert the data into TensorFlow `Dataset` objects"
      ]
    },
    {
      "cell_type": "code",
      "metadata": {
        "id": "doU1_wf81j59"
      },
      "source": [
        "train_ds_one = tf.data.Dataset.from_tensor_slices((x_train, y_train)).shuffle(1024).map(preprocess_image, num_parallel_calls=AUTO)\n",
        "train_ds_two = tf.data.Dataset.from_tensor_slices((x_train, y_train)).shuffle(1024).map(preprocess_image, num_parallel_calls=AUTO)\n",
        "\n",
        "train_ds_simple = tf.data.Dataset.from_tensor_slices((x_train, y_train))\n",
        "\n",
        "test_ds = tf.data.Dataset.from_tensor_slices((x_test, y_test))\n",
        "\n",
        "train_ds_simple = (train_ds_simple.map(preprocess_image, num_parallel_calls=AUTO).batch(BATCH_SIZE).prefetch(AUTO))\n",
        "\n",
        "# We will be combining two shuffled datasets from the same training data.\n",
        "train_ds = tf.data.Dataset.zip((train_ds_one, train_ds_two))\n",
        "\n",
        "test_ds = (test_ds.map(preprocess_image, num_parallel_calls=AUTO).batch(BATCH_SIZE).prefetch(AUTO))"
      ],
      "execution_count": 6,
      "outputs": []
    },
    {
      "cell_type": "markdown",
      "metadata": {
        "id": "rL-pV1kiyu6w"
      },
      "source": [
        "##Define the CutMix Technique Function\n",
        "\n",
        "cutmix function takes two `image` and `label` pair and performs cutmix augmentation. It samples `λ(l)` from a [Beta Distribution](https://en.wikipedia.org/wiki/Beta_distribution) and we get the bounding box from get_box function. We crop the image2 and pad this image in the final padded image at the same location. "
      ]
    },
    {
      "cell_type": "code",
      "metadata": {
        "id": "L1qrlrjvBBKb"
      },
      "source": [
        "@tf.function\n",
        "def get_box(l):\n",
        "  cut_rat = tf.math.sqrt(1.-l)\n",
        "\n",
        "  cut_w = IMG_SHAPE*cut_rat #rw\n",
        "  cut_w = tf.cast(cut_w, tf.int32)\n",
        "  \n",
        "  cut_h = IMG_SHAPE*cut_rat #rh\n",
        "  cut_h = tf.cast(cut_h, tf.int32)\n",
        "  \n",
        "  cx = tf.random.uniform((1,), minval=0, maxval=IMG_SHAPE, dtype=tf.int32) #rx\n",
        "  cy = tf.random.uniform((1,), minval=0, maxval=IMG_SHAPE, dtype=tf.int32) #ry\n",
        "  \n",
        "  bbx1 = tf.clip_by_value(cx[0] - cut_w // 2, 0, IMG_SHAPE)\n",
        "  bby1 = tf.clip_by_value(cy[0] - cut_h // 2, 0, IMG_SHAPE)\n",
        "  bbx2 = tf.clip_by_value(cx[0] + cut_w // 2, 0, IMG_SHAPE)\n",
        "  bby2 = tf.clip_by_value(cy[0] + cut_h // 2, 0, IMG_SHAPE)\n",
        "  \n",
        "  target_h = bby2-bby1\n",
        "  if target_h ==0:\n",
        "    target_h+=1\n",
        "\n",
        "  target_w = bbx2-bbx1\n",
        "  if target_w ==0:\n",
        "    target_w+=1\n",
        "\n",
        "  return bbx1, bby1, target_h, target_w\n",
        "\n",
        "@tf.function\n",
        "def cutmix(a, b):\n",
        "  \n",
        "  (image1, label1), (image2, label2) = a, b\n",
        "\n",
        "  alpha = [1.]\n",
        "  beta = [1.]\n",
        "  \n",
        "  ## Get sample from beta distribution\n",
        "  dist = tfd.Beta(alpha, beta)\n",
        "  ## Lambda\n",
        "  l = dist.sample(1)[0][0]\n",
        "\n",
        "  ## Get bbox ofsets and heights and widths\n",
        "  bbx1, bby1, target_h, target_w = get_box(l)\n",
        "\n",
        "  ## Get patch from image2\n",
        "  crop2 = tf.image.crop_to_bounding_box(image2, bby1, bbx1, target_h, target_w)\n",
        "  ## Pad the patch with same offset\n",
        "  image2 = tf.image.pad_to_bounding_box(crop2, bby1, bbx1, IMG_SHAPE, IMG_SHAPE)\n",
        "  ## Get patch from image1\n",
        "  crop1 = tf.image.crop_to_bounding_box(image1, bby1, bbx1, target_h, target_w)\n",
        "  ## Pad the patch with same offset\n",
        "  img1 = tf.image.pad_to_bounding_box(crop1, bby1, bbx1, IMG_SHAPE, IMG_SHAPE)\n",
        "\n",
        "  ## Subtract the patch from image1 so that patch from image2 can be put on instead\n",
        "  image1 = image1-img1\n",
        "  ## Add modified image1 and image2 to get cutmix image\n",
        "  image = image1+image2\n",
        "\n",
        "  ## Adjust lambda according to pixel ration\n",
        "  l = 1 - (target_w * target_h) / (IMG_SHAPE * IMG_SHAPE)\n",
        "  l = tf.cast(l, tf.float32)\n",
        "\n",
        "  ## Combine labels\n",
        "  label = l*label1+(1-l)*label2\n",
        "\n",
        "  return image, label"
      ],
      "execution_count": 7,
      "outputs": []
    },
    {
      "cell_type": "markdown",
      "metadata": {
        "id": "8nqeRs783Qg7"
      },
      "source": [
        "**Note** that here , we are combining two images to create a single one."
      ]
    },
    {
      "cell_type": "markdown",
      "metadata": {
        "id": "fiAPfghC3BsO"
      },
      "source": [
        "## Visualize the new dataset after applying CutMix Augmentation."
      ]
    },
    {
      "cell_type": "code",
      "metadata": {
        "id": "HxJbIiDxBEhd",
        "colab": {
          "base_uri": "https://localhost:8080/",
          "height": 591
        },
        "outputId": "f186a228-7410-433d-d48a-c4e64ccc6e87"
      },
      "source": [
        "# Create the new dataset using our `mix_up` utility\n",
        "train_ds_cmu = (train_ds.shuffle(1024).map(cutmix, num_parallel_calls=AUTO).batch(BATCH_SIZE).prefetch(AUTO))\n",
        "\n",
        "# Let's preview 9 samples from the dataset\n",
        "image_batch, label_batch = next(iter(train_ds_cmu))\n",
        "plt.figure(figsize=(10,10))\n",
        "for i in range(9):\n",
        "    ax = plt.subplot(3 ,3 ,i + 1)\n",
        "    plt.title(class_names[np.argmax(label_batch[i])])\n",
        "    plt.imshow(image_batch[i])\n",
        "    plt.axis('off')"
      ],
      "execution_count": 8,
      "outputs": [
        {
          "output_type": "display_data",
          "data": {
            "image/png": "[encoded data removed]",
            "text/plain": [
              "<Figure size 720x720 with 9 Axes>"
            ]
          },
          "metadata": {
            "tags": [],
            "needs_background": "light"
          }
        }
      ]
    },
    {
      "cell_type": "markdown",
      "metadata": {
        "id": "VTh8Z7Q87AWi"
      },
      "source": [
        "## Define the Model"
      ]
    },
    {
      "cell_type": "code",
      "metadata": {
        "id": "_gTDvUH7EPjW"
      },
      "source": [
        "def resnet_layer(inputs,\n",
        "                 num_filters=16,\n",
        "                 kernel_size=3,\n",
        "                 strides=1,\n",
        "                 activation='relu',\n",
        "                 batch_normalization=True,\n",
        "                 conv_first=True):\n",
        "\n",
        "    conv = keras.layers.Conv2D(num_filters,\n",
        "                  kernel_size=kernel_size,\n",
        "                  strides=strides,\n",
        "                  padding='same',\n",
        "                  kernel_initializer='he_normal',\n",
        "                  kernel_regularizer=keras.regularizers.l2(1e-4))\n",
        "\n",
        "    x = inputs\n",
        "    if conv_first:\n",
        "        x = conv(x)\n",
        "        if batch_normalization:\n",
        "            x = keras.layers.BatchNormalization()(x)\n",
        "        if activation is not None:\n",
        "            x = keras.layers.Activation(activation)(x)\n",
        "    else:\n",
        "        if batch_normalization:\n",
        "            x = keras.layers.BatchNormalization()(x)\n",
        "        if activation is not None:\n",
        "            x = keras.layers.Activation(activation)(x)\n",
        "        x = conv(x)\n",
        "    return x\n",
        "\n",
        "def resnet_v20(input_shape, depth, num_classes=10):\n",
        "\n",
        "    if (depth - 2) % 6 != 0:\n",
        "        raise ValueError('depth should be 6n+2 (eg 20, 32, 44 in [a])')\n",
        "    # Start model definition.\n",
        "    num_filters = 16\n",
        "    num_res_blocks = int((depth - 2) / 6)\n",
        "\n",
        "    inputs = keras.layers.Input(shape=input_shape)\n",
        "    x = resnet_layer(inputs=inputs)\n",
        "    # Instantiate the stack of residual units\n",
        "    for stack in range(3):\n",
        "        for res_block in range(num_res_blocks):\n",
        "            strides = 1\n",
        "            if stack > 0 and res_block == 0:  # first layer but not first stack\n",
        "                strides = 2  # downsample\n",
        "            y = resnet_layer(inputs=x,\n",
        "                             num_filters=num_filters,\n",
        "                             strides=strides)\n",
        "            y = resnet_layer(inputs=y,\n",
        "                             num_filters=num_filters,\n",
        "                             activation=None)\n",
        "            if stack > 0 and res_block == 0:  # first layer but not first stack\n",
        "                # linear projection residual shortcut connection to match\n",
        "                # changed dims\n",
        "                x = resnet_layer(inputs=x,\n",
        "                                 num_filters=num_filters,\n",
        "                                 kernel_size=1,\n",
        "                                 strides=strides,\n",
        "                                 activation=None,\n",
        "                                 batch_normalization=False)\n",
        "            x = keras.layers.add([x, y])\n",
        "            x = keras.layers.Activation('relu')(x)\n",
        "        num_filters *= 2\n",
        "\n",
        "    # Add classifier on top.\n",
        "    # v1 does not use BN after last shortcut connection-ReLU\n",
        "    x = keras.layers.AveragePooling2D(pool_size=8)(x)\n",
        "    y = keras.layers.Flatten()(x)\n",
        "    outputs = keras.layers.Dense(num_classes,\n",
        "                    activation='softmax',\n",
        "                    kernel_initializer='he_normal')(y)\n",
        "\n",
        "    # Instantiate model.\n",
        "    model = keras.models.Model(inputs=inputs, outputs=outputs)\n",
        "    return model"
      ],
      "execution_count": 9,
      "outputs": []
    },
    {
      "cell_type": "code",
      "metadata": {
        "id": "AGEudC60AywA"
      },
      "source": [
        "def training_model():\n",
        "  return resnet_v20((32,32,3), 20) "
      ],
      "execution_count": 10,
      "outputs": []
    },
    {
      "cell_type": "code",
      "metadata": {
        "id": "6IveCOANBMbl"
      },
      "source": [
        "initial_model = training_model()\n",
        "initial_model.save_weights(\"initial_weights.h5\")"
      ],
      "execution_count": 11,
      "outputs": []
    },
    {
      "cell_type": "markdown",
      "metadata": {
        "id": "XD2A1dTA7NgE"
      },
      "source": [
        "## 1. Train the model with the CutMix Dataset"
      ]
    },
    {
      "cell_type": "code",
      "metadata": {
        "colab": {
          "base_uri": "https://localhost:8080/"
        },
        "id": "0AOi1K7FCRML",
        "outputId": "1f5ee4ac-355a-42a8-eb3b-3b599eed92b5"
      },
      "source": [
        "model = training_model()\n",
        "model.load_weights(\"initial_weights.h5\")\n",
        "model.compile(loss=\"categorical_crossentropy\", optimizer=\"adam\", metrics=[\"accuracy\"])\n",
        "model.fit(train_ds_cmu,validation_data=test_ds, epochs=15)\n",
        "\n",
        "test_loss, test_accuracy = model.evaluate(test_ds)\n",
        "print(\"Test accuracy: {:.2f}%\".format(test_accuracy * 100))"
      ],
      "execution_count": 13,
      "outputs": [
        {
          "output_type": "stream",
          "text": [
            "Epoch 1/15\n",
            "1563/1563 [==============================] - 71s 23ms/step - loss: 2.1305 - accuracy: 0.3221 - val_loss: 1.4408 - val_accuracy: 0.5543\n",
            "Epoch 2/15\n",
            "1563/1563 [==============================] - 37s 23ms/step - loss: 1.8168 - accuracy: 0.4817 - val_loss: 1.2450 - val_accuracy: 0.6202\n",
            "Epoch 3/15\n",
            "1563/1563 [==============================] - 37s 23ms/step - loss: 1.6970 - accuracy: 0.5403 - val_loss: 1.2158 - val_accuracy: 0.6273\n",
            "Epoch 4/15\n",
            "1563/1563 [==============================] - 37s 23ms/step - loss: 1.6330 - accuracy: 0.5694 - val_loss: 1.1203 - val_accuracy: 0.6656\n",
            "Epoch 5/15\n",
            "1563/1563 [==============================] - 37s 23ms/step - loss: 1.5900 - accuracy: 0.5933 - val_loss: 0.9935 - val_accuracy: 0.7254\n",
            "Epoch 6/15\n",
            "1563/1563 [==============================] - 37s 23ms/step - loss: 1.5560 - accuracy: 0.6103 - val_loss: 0.8896 - val_accuracy: 0.7597\n",
            "Epoch 7/15\n",
            "1563/1563 [==============================] - 36s 23ms/step - loss: 1.5388 - accuracy: 0.6156 - val_loss: 1.0440 - val_accuracy: 0.6862\n",
            "Epoch 8/15\n",
            "1563/1563 [==============================] - 37s 23ms/step - loss: 1.5186 - accuracy: 0.6292 - val_loss: 0.8976 - val_accuracy: 0.7645\n",
            "Epoch 9/15\n",
            "1563/1563 [==============================] - 36s 23ms/step - loss: 1.4982 - accuracy: 0.6362 - val_loss: 0.8438 - val_accuracy: 0.7737\n",
            "Epoch 10/15\n",
            "1563/1563 [==============================] - 37s 23ms/step - loss: 1.4787 - accuracy: 0.6494 - val_loss: 0.8810 - val_accuracy: 0.7615\n",
            "Epoch 11/15\n",
            "1563/1563 [==============================] - 37s 23ms/step - loss: 1.4667 - accuracy: 0.6543 - val_loss: 0.8413 - val_accuracy: 0.7744\n",
            "Epoch 12/15\n",
            "1563/1563 [==============================] - 36s 23ms/step - loss: 1.4553 - accuracy: 0.6613 - val_loss: 1.0654 - val_accuracy: 0.6998\n",
            "Epoch 13/15\n",
            "1563/1563 [==============================] - 37s 23ms/step - loss: 1.4517 - accuracy: 0.6622 - val_loss: 1.1797 - val_accuracy: 0.6481\n",
            "Epoch 14/15\n",
            "1563/1563 [==============================] - 37s 23ms/step - loss: 1.4421 - accuracy: 0.6719 - val_loss: 0.7602 - val_accuracy: 0.8074\n",
            "Epoch 15/15\n",
            "1563/1563 [==============================] - 37s 23ms/step - loss: 1.4337 - accuracy: 0.6765 - val_loss: 0.8666 - val_accuracy: 0.7715\n",
            "313/313 [==============================] - 2s 5ms/step - loss: 0.8666 - accuracy: 0.7715\n",
            "Test accuracy: 77.15%\n"
          ],
          "name": "stdout"
        }
      ]
    },
    {
      "cell_type": "markdown",
      "metadata": {
        "id": "Lv4du43A8NN1"
      },
      "source": [
        "## 2. Train the model with the Original Dataset"
      ]
    },
    {
      "cell_type": "code",
      "metadata": {
        "colab": {
          "base_uri": "https://localhost:8080/"
        },
        "id": "woYIoIKKCqov",
        "outputId": "38bcdb13-1a24-4ea5-bca7-cc79e83043ad"
      },
      "source": [
        "model = training_model()\n",
        "model.load_weights(\"initial_weights.h5\")\n",
        "model.compile(loss=\"categorical_crossentropy\", optimizer=\"adam\", metrics=[\"accuracy\"])\n",
        "model.fit(train_ds_simple,validation_data=test_ds, epochs=15)\n",
        "\n",
        "test_loss, test_accuracy = model.evaluate(test_ds)\n",
        "print(\"Test accuracy: {:.2f}%\".format(test_accuracy * 100))"
      ],
      "execution_count": 14,
      "outputs": [
        {
          "output_type": "stream",
          "text": [
            "Epoch 1/15\n",
            "1563/1563 [==============================] - 23s 13ms/step - loss: 1.7219 - accuracy: 0.4337 - val_loss: 1.3146 - val_accuracy: 0.5816\n",
            "Epoch 2/15\n",
            "1563/1563 [==============================] - 20s 13ms/step - loss: 1.1353 - accuracy: 0.6540 - val_loss: 1.5839 - val_accuracy: 0.5463\n",
            "Epoch 3/15\n",
            "1563/1563 [==============================] - 20s 13ms/step - loss: 0.9312 - accuracy: 0.7312 - val_loss: 1.1482 - val_accuracy: 0.6785\n",
            "Epoch 4/15\n",
            "1563/1563 [==============================] - 20s 13ms/step - loss: 0.8073 - accuracy: 0.7773 - val_loss: 1.0559 - val_accuracy: 0.7073\n",
            "Epoch 5/15\n",
            "1563/1563 [==============================] - 20s 13ms/step - loss: 0.7283 - accuracy: 0.8094 - val_loss: 1.0752 - val_accuracy: 0.7103\n",
            "Epoch 6/15\n",
            "1563/1563 [==============================] - 20s 13ms/step - loss: 0.6654 - accuracy: 0.8350 - val_loss: 1.2397 - val_accuracy: 0.6937\n",
            "Epoch 7/15\n",
            "1563/1563 [==============================] - 20s 13ms/step - loss: 0.6182 - accuracy: 0.8550 - val_loss: 1.5660 - val_accuracy: 0.6474\n",
            "Epoch 8/15\n",
            "1563/1563 [==============================] - 20s 13ms/step - loss: 0.5783 - accuracy: 0.8726 - val_loss: 1.6147 - val_accuracy: 0.6602\n",
            "Epoch 9/15\n",
            "1563/1563 [==============================] - 20s 13ms/step - loss: 0.5570 - accuracy: 0.8827 - val_loss: 1.5220 - val_accuracy: 0.6933\n",
            "Epoch 10/15\n",
            "1563/1563 [==============================] - 20s 13ms/step - loss: 0.5306 - accuracy: 0.8961 - val_loss: 1.3655 - val_accuracy: 0.7193\n",
            "Epoch 11/15\n",
            "1563/1563 [==============================] - 20s 13ms/step - loss: 0.5100 - accuracy: 0.9070 - val_loss: 1.2856 - val_accuracy: 0.7290\n",
            "Epoch 12/15\n",
            "1563/1563 [==============================] - 20s 13ms/step - loss: 0.5064 - accuracy: 0.9082 - val_loss: 1.3170 - val_accuracy: 0.7267\n",
            "Epoch 13/15\n",
            "1563/1563 [==============================] - 20s 13ms/step - loss: 0.4961 - accuracy: 0.9168 - val_loss: 1.3977 - val_accuracy: 0.7211\n",
            "Epoch 14/15\n",
            "1563/1563 [==============================] - 20s 13ms/step - loss: 0.4779 - accuracy: 0.9239 - val_loss: 1.5343 - val_accuracy: 0.7141\n",
            "Epoch 15/15\n",
            "1563/1563 [==============================] - 20s 13ms/step - loss: 0.4837 - accuracy: 0.9229 - val_loss: 1.6068 - val_accuracy: 0.7106\n",
            "313/313 [==============================] - 2s 5ms/step - loss: 1.6068 - accuracy: 0.7106\n",
            "Test accuracy: 71.06%\n"
          ],
          "name": "stdout"
        }
      ]
    },
    {
      "cell_type": "markdown",
      "metadata": {
        "id": "UL5P-p069ug8"
      },
      "source": [
        "## Notes\n",
        "\n",
        "In this example, we trained our model for 15 epochs. On the CIFAR10 dataset, the model performs better with `CutMix Augmentation` with a better accuracy (for example 77.15% in one experiment) compared to model with a accuracy (for example 71.06%).\n",
        "\n",
        "In the notebook, you may notice that, the time taken during the CutMix Augmentation.\n",
        "\n",
        "You can also experiment this `CutMix` technique by reading this [Original Paper](https://arxiv.org/pdf/1905.04899.pdf)"
      ]
    }
  ]
}