{
  "nbformat": 4,
  "nbformat_minor": 0,
  "metadata": {
    "colab": {
      "name": "cutmix.ipynb",
      "provenance": [],
      "collapsed_sections": [],
      "toc_visible": true
    },
    "kernelspec": {
      "name": "python3",
      "display_name": "Python 3"
    },
    "language_info": {
      "name": "python"
    },
    "accelerator": "GPU"
  },
  "cells": [
    {
      "cell_type": "markdown",
      "metadata": {
        "id": "S2qg_vxs91NV"
      },
      "source": [
        "# CutMix data augmentation for image classification\n",
        "\n",
        "**Author:** [Sayan Nath](https://twitter.com/SayanNa20204009)<br>\n",
        "**Date created:** 2021/03/25<br>\n",
        "**Last modified:** 2021/03/25<br>\n",
        "**Description:** Data augmentation with CutMix for image classification on CIFAR-10."
      ]
    },
    {
      "cell_type": "markdown",
      "metadata": {
        "id": "d8o5dvT7-KeP"
      },
      "source": [
        "## Introduction"
      ]
    },
    {
      "cell_type": "markdown",
      "metadata": {
        "id": "KtUhqR0fZ1mI"
      },
      "source": [
        "_CutMix_ is a data augmentation technique that addresses the issue of\n",
        "information loss and inefficiency present in regional dropout strategies. \n",
        "Instead of removing pixels and filling them with black or grey pixels or\n",
        "Gaussian noise, you replace the removed regions with a patch from another image,\n",
        "while the ground truth labels are mixed proportionally to the number of pixels\n",
        "of combined images. CutMix was proposed in\n",
        "[CutMix: Regularization Strategy to Train Strong Classifiers with Localizable Features](https://arxiv.org/pdf/1905.04899.pdf)\n",
        "(Yun et al., 2019)\n",
        "\n",
        "It's implemented with the following formulas:\n",
        "\n",
        "![](https://i.imgur.com/cGvd13V.png)\n",
        "\n",
        "where M is the binary mask which indicates the cutout and the fill-in regions from the two randomly drawn images and λ is drawn from [Beta(α,α) distribution](https://en.wikipedia.org/wiki/Beta_distribution) and `λ ∈ [0, 1]`\n",
        "\n",
        "\n",
        "The coordinates of bounding boxes are ![](https://i.imgur.com/eNisep4.png) which indicates the cutout and fill-in regions in case of the images.\n",
        "\n",
        "The bounding box sampling is represented by:\n",
        "\n",
        "![](https://i.imgur.com/Snph9aj.png)\n",
        "\n",
        "where `rx,ry` are randomly drawn from a uniform distribution with upper bound\n",
        "\n",
        "This example requires TensorFlow 2.4 or higher."
      ]
    },
    {
      "cell_type": "markdown",
      "metadata": {
        "id": "RdHktOHMxN_t"
      },
      "source": [
        "## Import the necessary packages"
      ]
    },
    {
      "cell_type": "code",
      "metadata": {
        "id": "jF9JLzG7AT3C"
      },
      "source": [
        "import numpy as np\n",
        "import pandas as pd\n",
        "import matplotlib.pyplot as plt\n",
        "import tensorflow as tf\n",
        "from tensorflow import keras\n",
        "from tensorflow.keras import mixed_precision\n",
        "\n",
        "np.random.seed(42)\n",
        "tf.random.set_seed(42)"
      ],
      "execution_count": 2,
      "outputs": []
    },
    {
      "cell_type": "markdown",
      "metadata": {
        "id": "OsyqMVujxa92"
      },
      "source": [
        "## Load the CIFAR-10 dataset\n",
        "\n",
        "In this example, we will use the\n",
        "[CIFAR- 10 dataset](https://www.cs.toronto.edu/~kriz/cifar.html)."
      ]
    },
    {
      "cell_type": "code",
      "metadata": {
        "id": "kLjqzw95AoOV",
        "colab": {
          "base_uri": "https://localhost:8080/"
        },
        "outputId": "5022589e-6548-4ceb-cbfc-b56c191b2f37"
      },
      "source": [
        "(x_train, y_train), (x_test, y_test) = tf.keras.datasets.cifar10.load_data()\n",
        "\n",
        "\n",
        "y_train = tf.keras.utils.to_categorical(y_train, num_classes=10)\n",
        "y_test = tf.keras.utils.to_categorical(y_test, num_classes=10)"
      ],
      "execution_count": 3,
      "outputs": [
        {
          "output_type": "stream",
          "text": [
            "Downloading data from https://www.cs.toronto.edu/~kriz/cifar-10-python.tar.gz\n",
            "170500096/170498071 [==============================] - 4s 0us/step\n"
          ],
          "name": "stdout"
        }
      ]
    },
    {
      "cell_type": "code",
      "metadata": {
        "colab": {
          "base_uri": "https://localhost:8080/"
        },
        "id": "-3KX99WjTODk",
        "outputId": "d6a98b9b-8ad5-4e72-c9bd-b8f5a93da8bf"
      },
      "source": [
        "print(x_train.shape)\n",
        "print(y_train.shape)\n",
        "\n",
        "print(x_test.shape)\n",
        "print(y_test.shape)"
      ],
      "execution_count": 4,
      "outputs": [
        {
          "output_type": "stream",
          "text": [
            "(50000, 32, 32, 3)\n",
            "(50000, 10)\n",
            "(10000, 32, 32, 3)\n",
            "(10000, 10)\n"
          ],
          "name": "stdout"
        }
      ]
    },
    {
      "cell_type": "code",
      "metadata": {
        "id": "_TiyAbozDfB3"
      },
      "source": [
        "class_names = [\"Airplane\", \"Automobile\", \"Bird\", \"Cat\", \"Deer\", \"Dog\", \"Frog\", \"Horse\", \"Ship\", \"Truck\"]"
      ],
      "execution_count": 5,
      "outputs": []
    },
    {
      "cell_type": "markdown",
      "metadata": {
        "id": "GSglnCojx5nt"
      },
      "source": [
        "## Define hyperparameters"
      ]
    },
    {
      "cell_type": "code",
      "metadata": {
        "id": "zXbNlfHKA3q2"
      },
      "source": [
        "AUTO = tf.data.experimental.AUTOTUNE\n",
        "BATCH_SIZE = 32\n",
        "IMG_SHAPE = 32"
      ],
      "execution_count": 6,
      "outputs": []
    },
    {
      "cell_type": "markdown",
      "metadata": {
        "id": "_z9SarG-ypVM"
      },
      "source": [
        "## Define the image preprocessing function"
      ]
    },
    {
      "cell_type": "code",
      "metadata": {
        "id": "buntzLP9A6-U"
      },
      "source": [
        "def preprocess_image(image, label):\n",
        "  image = tf.image.resize(image, (IMG_SHAPE, IMG_SHAPE))\n",
        "  image = tf.image.convert_image_dtype(image, tf.float32) / 255.\n",
        "  return image, label"
      ],
      "execution_count": 7,
      "outputs": []
    },
    {
      "cell_type": "markdown",
      "metadata": {
        "id": "PZQ1k__B2KC3"
      },
      "source": [
        "## Convert the data into TensorFlow `Dataset` objects"
      ]
    },
    {
      "cell_type": "code",
      "metadata": {
        "id": "doU1_wf81j59"
      },
      "source": [
        "train_ds_one = tf.data.Dataset.from_tensor_slices((x_train, y_train)).shuffle(1024).map(preprocess_image, num_parallel_calls=AUTO)\n",
        "train_ds_two = tf.data.Dataset.from_tensor_slices((x_train, y_train)).shuffle(1024).map(preprocess_image, num_parallel_calls=AUTO)\n",
        "\n",
        "train_ds_simple = tf.data.Dataset.from_tensor_slices((x_train, y_train))\n",
        "\n",
        "test_ds = tf.data.Dataset.from_tensor_slices((x_test, y_test))\n",
        "\n",
        "train_ds_simple = (train_ds_simple.map(preprocess_image, num_parallel_calls=AUTO).batch(BATCH_SIZE).prefetch(AUTO))\n",
        "\n",
        "# Combine two shuffled datasets from the same training data.\n",
        "train_ds = tf.data.Dataset.zip((train_ds_one, train_ds_two))\n",
        "\n",
        "test_ds = (test_ds.map(preprocess_image, num_parallel_calls=AUTO).batch(BATCH_SIZE).prefetch(AUTO))"
      ],
      "execution_count": 8,
      "outputs": []
    },
    {
      "cell_type": "markdown",
      "metadata": {
        "id": "rL-pV1kiyu6w"
      },
      "source": [
        "## Define the CutMix data augmentation function\n",
        "\n",
        "The CutMix function takes two `image` and `label` pairs to perform the\n",
        "augmentation. It samples `λ(l)` from the\n",
        "[Beta distribution](https://en.wikipedia.org/wiki/Beta_distribution) and returns\n",
        "a bounding box from `get_box` function. We then crop the second image (`image2`)\n",
        "and pad this image in the final padded image at the same location."
      ]
    },
    {
      "cell_type": "code",
      "metadata": {
        "id": "L1qrlrjvBBKb"
      },
      "source": [
        "def sample_beta_distribution(size, concentration_0=0.2, concentration_1=0.2):\n",
        "    gamma_1_sample = tf.random.gamma(shape=[size], alpha=concentration_1)\n",
        "    gamma_2_sample = tf.random.gamma(shape=[size], alpha=concentration_0)\n",
        "    return gamma_1_sample / (gamma_1_sample + gamma_2_sample)\n",
        "\n",
        "@tf.function\n",
        "def get_box(lambda_value):\n",
        "    cut_rat = tf.math.sqrt(1.0 - lambda_value)\n",
        "\n",
        "    cut_w = IMG_SHAPE * cut_rat  # rw\n",
        "    cut_w = tf.cast(cut_w, tf.int32)\n",
        "\n",
        "    cut_h = IMG_SHAPE * cut_rat  # rh\n",
        "    cut_h = tf.cast(cut_h, tf.int32)\n",
        "\n",
        "    cut_x = tf.random.uniform((1,), minval=0, maxval=IMG_SHAPE, dtype=tf.int32)  # rx\n",
        "    cut_y = tf.random.uniform((1,), minval=0, maxval=IMG_SHAPE, dtype=tf.int32)  # ry\n",
        "\n",
        "    boundaryx1 = tf.clip_by_value(cut_x[0] - cut_w // 2, 0, IMG_SHAPE)\n",
        "    boundaryy1 = tf.clip_by_value(cut_y[0] - cut_h // 2, 0, IMG_SHAPE)\n",
        "    bbx2 = tf.clip_by_value(cut_x[0] + cut_w // 2, 0, IMG_SHAPE)\n",
        "    bby2 = tf.clip_by_value(cut_y[0] + cut_h // 2, 0, IMG_SHAPE)\n",
        "\n",
        "    target_h = bby2 - boundaryy1\n",
        "    if target_h == 0:\n",
        "        target_h += 1\n",
        "\n",
        "    target_w = bbx2 - boundaryx1\n",
        "    if target_w == 0:\n",
        "        target_w += 1\n",
        "\n",
        "    return boundaryx1, boundaryy1, target_h, target_w\n",
        "\n",
        "\n",
        "@tf.function\n",
        "def cutmix(train_ds_one, train_ds_two):\n",
        "\n",
        "    (image1, label1), (image2, label2) = train_ds_one, train_ds_two\n",
        "\n",
        "    alpha = [0.25]\n",
        "    beta = [0.25]\n",
        "\n",
        "    # Get a sample from the Beta distribution\n",
        "    lambda_value = sample_beta_distribution(1, alpha, beta)\n",
        " \n",
        "    # Define Lambda\n",
        "    lambda_value = lambda_value[0][0]\n",
        "  \n",
        "    # Get the bounding box offsets, heights and widths\n",
        "    boundaryx1, boundaryy1, target_h, target_w = get_box(lambda_value)\n",
        "\n",
        "    # Get a patch from the second image (`image2`)\n",
        "    crop2 = tf.image.crop_to_bounding_box(image2, boundaryy1, boundaryx1, target_h, target_w)\n",
        "    # Pad the `image2` patch (`crop2`) with the same offset\n",
        "    image2 = tf.image.pad_to_bounding_box(crop2, boundaryy1, boundaryx1, IMG_SHAPE, IMG_SHAPE)\n",
        "    # Get a patch from the first image (`image1`)\n",
        "    crop1 = tf.image.crop_to_bounding_box(image1, boundaryy1, boundaryx1, target_h, target_w)\n",
        "    # Pad the `image1` patch (`crop1`) with the same offset\n",
        "    img1 = tf.image.pad_to_bounding_box(crop1, boundaryy1, boundaryx1, IMG_SHAPE, IMG_SHAPE)\n",
        "\n",
        "    # Modify the first image by subtracting the patch from `image1`\n",
        "    # (before applying the `image2` patch)\n",
        "    image1 = image1 - img1\n",
        "    # Add the modified `image1` and `image2`  together to get the CutMix image\n",
        "    image = image1 + image2\n",
        "\n",
        "    # Adjust Lambda in accordance to the pixel ration\n",
        "    lambda_value = 1 - (target_w * target_h) / (IMG_SHAPE * IMG_SHAPE)\n",
        "    lambda_value = tf.cast(lambda_value, tf.float32)\n",
        "\n",
        "    # Combine the labels of both images\n",
        "    label = lambda_value * label1 + (1 - lambda_value) * label2\n",
        "\n",
        "    return image, label"
      ],
      "execution_count": 9,
      "outputs": []
    },
    {
      "cell_type": "markdown",
      "metadata": {
        "id": "8nqeRs783Qg7"
      },
      "source": [
        "**Note**: we are combining two images to create a single one."
      ]
    },
    {
      "cell_type": "markdown",
      "metadata": {
        "id": "fiAPfghC3BsO"
      },
      "source": [
        "## Visualize the new dataset after applying the CutMix augmentation"
      ]
    },
    {
      "cell_type": "code",
      "metadata": {
        "id": "HxJbIiDxBEhd",
        "colab": {
          "base_uri": "https://localhost:8080/",
          "height": 591
        },
        "outputId": "8ed17112-e080-4b71-868d-924b6f65bb2b"
      },
      "source": [
        "# Create the new dataset using our `cutmix` utility\n",
        "train_ds_cmu = (train_ds.shuffle(1024).map(cutmix, num_parallel_calls=AUTO).batch(BATCH_SIZE).prefetch(AUTO))\n",
        "\n",
        "# Let's preview 9 samples from the dataset\n",
        "image_batch, label_batch = next(iter(train_ds_cmu))\n",
        "plt.figure(figsize=(10,10))\n",
        "for i in range(9):\n",
        "    ax = plt.subplot(3 ,3 ,i + 1)\n",
        "    plt.title(class_names[np.argmax(label_batch[i])])\n",
        "    plt.imshow(image_batch[i])\n",
        "    plt.axis('off')"
      ],
      "execution_count": 10,
      "outputs": [
        {
          "output_type": "display_data",
          "data": {
            "image/png": "[encoded data removed]",
            "text/plain": [
              "<Figure size 720x720 with 9 Axes>"
            ]
          },
          "metadata": {
            "tags": [],
            "needs_background": "light"
          }
        }
      ]
    },
    {
      "cell_type": "markdown",
      "metadata": {
        "id": "VTh8Z7Q87AWi"
      },
      "source": [
        "## Define the model using ResNet-20"
      ]
    },
    {
      "cell_type": "code",
      "metadata": {
        "id": "_gTDvUH7EPjW"
      },
      "source": [
        "def resnet_layer(inputs,\n",
        "                 num_filters=16,\n",
        "                 kernel_size=3,\n",
        "                 strides=1,\n",
        "                 activation='relu',\n",
        "                 batch_normalization=True,\n",
        "                 conv_first=True):\n",
        "\n",
        "    conv = keras.layers.Conv2D(num_filters,\n",
        "                  kernel_size=kernel_size,\n",
        "                  strides=strides,\n",
        "                  padding='same',\n",
        "                  kernel_initializer='he_normal',\n",
        "                  kernel_regularizer=keras.regularizers.l2(1e-4))\n",
        "\n",
        "    x = inputs\n",
        "    if conv_first:\n",
        "        x = conv(x)\n",
        "        if batch_normalization:\n",
        "            x = keras.layers.BatchNormalization()(x)\n",
        "        if activation is not None:\n",
        "            x = keras.layers.Activation(activation)(x)\n",
        "    else:\n",
        "        if batch_normalization:\n",
        "            x = keras.layers.BatchNormalization()(x)\n",
        "        if activation is not None:\n",
        "            x = keras.layers.Activation(activation)(x)\n",
        "        x = conv(x)\n",
        "    return x\n",
        "\n",
        "def resnet_v20(input_shape, depth, num_classes=10):\n",
        "\n",
        "    if (depth - 2) % 6 != 0:\n",
        "        raise ValueError('depth should be 6n+2 (eg 20, 32, 44 in [a])')\n",
        "    # Start model definition.\n",
        "    num_filters = 16\n",
        "    num_res_blocks = int((depth - 2) / 6)\n",
        "\n",
        "    inputs = keras.layers.Input(shape=input_shape)\n",
        "    x = resnet_layer(inputs=inputs)\n",
        "    # Instantiate the stack of residual units\n",
        "    for stack in range(3):\n",
        "        for res_block in range(num_res_blocks):\n",
        "            strides = 1\n",
        "            if stack > 0 and res_block == 0:  # first layer but not first stack\n",
        "                strides = 2  # downsample\n",
        "            y = resnet_layer(inputs=x,\n",
        "                             num_filters=num_filters,\n",
        "                             strides=strides)\n",
        "            y = resnet_layer(inputs=y,\n",
        "                             num_filters=num_filters,\n",
        "                             activation=None)\n",
        "            if stack > 0 and res_block == 0:  # first layer but not first stack\n",
        "                # linear projection residual shortcut connection to match\n",
        "                # changed dims\n",
        "                x = resnet_layer(inputs=x,\n",
        "                                 num_filters=num_filters,\n",
        "                                 kernel_size=1,\n",
        "                                 strides=strides,\n",
        "                                 activation=None,\n",
        "                                 batch_normalization=False)\n",
        "            x = keras.layers.add([x, y])\n",
        "            x = keras.layers.Activation('relu')(x)\n",
        "        num_filters *= 2\n",
        "\n",
        "    # Add classifier on top.\n",
        "    # v1 does not use BN after last shortcut connection-ReLU\n",
        "    x = keras.layers.AveragePooling2D(pool_size=8)(x)\n",
        "    y = keras.layers.Flatten()(x)\n",
        "    outputs = keras.layers.Dense(num_classes,\n",
        "                    activation='softmax',\n",
        "                    kernel_initializer='he_normal')(y)\n",
        "\n",
        "    # Instantiate model.\n",
        "    model = keras.models.Model(inputs=inputs, outputs=outputs)\n",
        "    return model"
      ],
      "execution_count": 11,
      "outputs": []
    },
    {
      "cell_type": "code",
      "metadata": {
        "id": "AGEudC60AywA"
      },
      "source": [
        "def training_model():\n",
        "  return resnet_v20((32,32,3), 20) "
      ],
      "execution_count": 12,
      "outputs": []
    },
    {
      "cell_type": "code",
      "metadata": {
        "id": "6IveCOANBMbl"
      },
      "source": [
        "initial_model = training_model()\n",
        "initial_model.save_weights(\"initial_weights.h5\")"
      ],
      "execution_count": 13,
      "outputs": []
    },
    {
      "cell_type": "markdown",
      "metadata": {
        "id": "XD2A1dTA7NgE"
      },
      "source": [
        "## 1. Train the model with the dataset augmented by CutMix"
      ]
    },
    {
      "cell_type": "code",
      "metadata": {
        "colab": {
          "base_uri": "https://localhost:8080/"
        },
        "id": "0AOi1K7FCRML",
        "outputId": "97f89b22-a5bf-4cf4-d9f6-40c408809baa"
      },
      "source": [
        "model = training_model()\n",
        "model.load_weights(\"initial_weights.h5\")\n",
        "\n",
        "model.compile(loss=\"categorical_crossentropy\", optimizer=\"adam\", metrics=[\"accuracy\"])\n",
        "model.fit(train_ds_cmu,validation_data=test_ds, epochs=15)\n",
        "\n",
        "test_loss, test_accuracy = model.evaluate(test_ds)\n",
        "print(\"Test accuracy: {:.2f}%\".format(test_accuracy * 100))"
      ],
      "execution_count": 14,
      "outputs": [
        {
          "output_type": "stream",
          "text": [
            "Epoch 1/15\n",
            "1563/1563 [==============================] - 68s 22ms/step - loss: 1.9125 - accuracy: 0.4114 - val_loss: 1.5080 - val_accuracy: 0.5131\n",
            "Epoch 2/15\n",
            "1563/1563 [==============================] - 34s 21ms/step - loss: 1.6632 - accuracy: 0.5339 - val_loss: 1.2390 - val_accuracy: 0.6141\n",
            "Epoch 3/15\n",
            "1563/1563 [==============================] - 34s 21ms/step - loss: 1.5568 - accuracy: 0.5842 - val_loss: 1.1439 - val_accuracy: 0.6634\n",
            "Epoch 4/15\n",
            "1563/1563 [==============================] - 34s 21ms/step - loss: 1.4982 - accuracy: 0.6079 - val_loss: 1.0863 - val_accuracy: 0.6815\n",
            "Epoch 5/15\n",
            "1563/1563 [==============================] - 34s 22ms/step - loss: 1.4524 - accuracy: 0.6305 - val_loss: 1.0434 - val_accuracy: 0.6899\n",
            "Epoch 6/15\n",
            "1563/1563 [==============================] - 34s 22ms/step - loss: 1.4176 - accuracy: 0.6519 - val_loss: 0.9067 - val_accuracy: 0.7507\n",
            "Epoch 7/15\n",
            "1563/1563 [==============================] - 34s 22ms/step - loss: 1.3980 - accuracy: 0.6569 - val_loss: 1.0845 - val_accuracy: 0.6593\n",
            "Epoch 8/15\n",
            "1563/1563 [==============================] - 34s 22ms/step - loss: 1.3722 - accuracy: 0.6715 - val_loss: 0.9353 - val_accuracy: 0.7364\n",
            "Epoch 9/15\n",
            "1563/1563 [==============================] - 34s 22ms/step - loss: 1.3548 - accuracy: 0.6827 - val_loss: 0.8301 - val_accuracy: 0.7797\n",
            "Epoch 10/15\n",
            "1563/1563 [==============================] - 34s 21ms/step - loss: 1.3415 - accuracy: 0.6865 - val_loss: 0.7855 - val_accuracy: 0.7998\n",
            "Epoch 11/15\n",
            "1563/1563 [==============================] - 34s 21ms/step - loss: 1.3294 - accuracy: 0.6927 - val_loss: 0.8768 - val_accuracy: 0.7660\n",
            "Epoch 12/15\n",
            "1563/1563 [==============================] - 34s 22ms/step - loss: 1.3181 - accuracy: 0.6994 - val_loss: 0.8326 - val_accuracy: 0.7760\n",
            "Epoch 13/15\n",
            "1563/1563 [==============================] - 33s 21ms/step - loss: 1.3064 - accuracy: 0.7031 - val_loss: 0.8176 - val_accuracy: 0.7813\n",
            "Epoch 14/15\n",
            "1563/1563 [==============================] - 36s 23ms/step - loss: 1.3012 - accuracy: 0.7068 - val_loss: 0.8991 - val_accuracy: 0.7538\n",
            "Epoch 15/15\n",
            "1563/1563 [==============================] - 34s 22ms/step - loss: 1.2944 - accuracy: 0.7104 - val_loss: 0.8397 - val_accuracy: 0.7830\n",
            "313/313 [==============================] - 2s 6ms/step - loss: 0.8397 - accuracy: 0.7830\n",
            "Test accuracy: 78.30%\n"
          ],
          "name": "stdout"
        }
      ]
    },
    {
      "cell_type": "markdown",
      "metadata": {
        "id": "Lv4du43A8NN1"
      },
      "source": [
        "## 2. Train the model using the original non-augmented dataset"
      ]
    },
    {
      "cell_type": "code",
      "metadata": {
        "colab": {
          "base_uri": "https://localhost:8080/"
        },
        "id": "woYIoIKKCqov",
        "outputId": "69ffe972-a514-40b4-fa3a-5f14e91eab69"
      },
      "source": [
        "model = training_model()\n",
        "model.load_weights(\"initial_weights.h5\")\n",
        "model.compile(loss=\"categorical_crossentropy\", optimizer=\"adam\", metrics=[\"accuracy\"])\n",
        "model.fit(train_ds_simple,validation_data=test_ds, epochs=15)\n",
        "\n",
        "test_loss, test_accuracy = model.evaluate(test_ds)\n",
        "print(\"Test accuracy: {:.2f}%\".format(test_accuracy * 100))"
      ],
      "execution_count": 15,
      "outputs": [
        {
          "output_type": "stream",
          "text": [
            "Epoch 1/15\n",
            "1563/1563 [==============================] - 25s 14ms/step - loss: 1.4777 - accuracy: 0.5220 - val_loss: 1.4840 - val_accuracy: 0.5344\n",
            "Epoch 2/15\n",
            "1563/1563 [==============================] - 22s 14ms/step - loss: 1.0746 - accuracy: 0.6744 - val_loss: 1.1067 - val_accuracy: 0.6664\n",
            "Epoch 3/15\n",
            "1563/1563 [==============================] - 22s 14ms/step - loss: 0.9015 - accuracy: 0.7408 - val_loss: 1.0764 - val_accuracy: 0.6794\n",
            "Epoch 4/15\n",
            "1563/1563 [==============================] - 22s 14ms/step - loss: 0.7967 - accuracy: 0.7823 - val_loss: 0.9531 - val_accuracy: 0.7261\n",
            "Epoch 5/15\n",
            "1563/1563 [==============================] - 22s 14ms/step - loss: 0.7183 - accuracy: 0.8147 - val_loss: 1.1002 - val_accuracy: 0.6946\n",
            "Epoch 6/15\n",
            "1563/1563 [==============================] - 22s 14ms/step - loss: 0.6622 - accuracy: 0.8381 - val_loss: 1.3530 - val_accuracy: 0.6557\n",
            "Epoch 7/15\n",
            "1563/1563 [==============================] - 22s 14ms/step - loss: 0.6136 - accuracy: 0.8584 - val_loss: 1.2183 - val_accuracy: 0.6815\n",
            "Epoch 8/15\n",
            "1563/1563 [==============================] - 22s 14ms/step - loss: 0.5790 - accuracy: 0.8719 - val_loss: 1.5116 - val_accuracy: 0.6585\n",
            "Epoch 9/15\n",
            "1563/1563 [==============================] - 22s 14ms/step - loss: 0.5511 - accuracy: 0.8864 - val_loss: 1.6412 - val_accuracy: 0.6475\n",
            "Epoch 10/15\n",
            "1563/1563 [==============================] - 22s 14ms/step - loss: 0.5299 - accuracy: 0.8960 - val_loss: 1.2417 - val_accuracy: 0.7274\n",
            "Epoch 11/15\n",
            "1563/1563 [==============================] - 22s 14ms/step - loss: 0.5100 - accuracy: 0.9046 - val_loss: 1.2850 - val_accuracy: 0.7310\n",
            "Epoch 12/15\n",
            "1563/1563 [==============================] - 22s 14ms/step - loss: 0.4979 - accuracy: 0.9126 - val_loss: 1.4046 - val_accuracy: 0.7135\n",
            "Epoch 13/15\n",
            "1563/1563 [==============================] - 22s 14ms/step - loss: 0.4906 - accuracy: 0.9177 - val_loss: 1.4842 - val_accuracy: 0.7170\n",
            "Epoch 14/15\n",
            "1563/1563 [==============================] - 22s 14ms/step - loss: 0.4862 - accuracy: 0.9215 - val_loss: 1.2598 - val_accuracy: 0.7441\n",
            "Epoch 15/15\n",
            "1563/1563 [==============================] - 22s 14ms/step - loss: 0.4749 - accuracy: 0.9291 - val_loss: 1.9676 - val_accuracy: 0.6645\n",
            "313/313 [==============================] - 2s 6ms/step - loss: 1.9676 - accuracy: 0.6645\n",
            "Test accuracy: 66.45%\n"
          ],
          "name": "stdout"
        }
      ]
    },
    {
      "cell_type": "markdown",
      "metadata": {
        "id": "UL5P-p069ug8"
      },
      "source": [
        "## Notes\n",
        "In this example, we trained our model for 15 epochs. In our experiment, the\n",
        "model with CutMix achieves a better accuracy on the CIFAR-10 dataset (80.36% in\n",
        "our experiment) compared to the model that doesn't use the augmentation\n",
        "(72.70%).\n",
        "\n",
        "You may notice it takes less time to train the model with the CutMix augmentation.\n",
        "\n",
        "You can experiment further with the CutMix technique by following the\n",
        "[original paper](https://arxiv.org/pdf/1905.04899.pdf)."
      ]
    }
  ]
}